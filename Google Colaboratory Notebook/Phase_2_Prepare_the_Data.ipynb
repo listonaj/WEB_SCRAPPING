{
 "cells": [
  {
   "cell_type": "markdown",
   "metadata": {},
   "source": [
    "# GROUP PROJECT PHASE 2 - PREPARE THE DATA\n",
    "members\n",
    "date\n",
    "course"
   ]
  },
  {
   "cell_type": "markdown",
   "metadata": {},
   "source": [
    "- ADD PURPOSE HERE AND TOOLS WE ARE GOING TO USE.\n",
    "- PYTHON, JUPITER, VISUAL STUDIO CODe, csv files and where or how we found them.\n"
   ]
  },
  {
   "cell_type": "code",
   "execution_count": 1,
   "metadata": {},
   "outputs": [],
   "source": [
    "# import python library\n",
    "import pandas as pd\n",
    "import numpy as np"
   ]
  },
  {
   "cell_type": "code",
   "execution_count": null,
   "metadata": {},
   "outputs": [],
   "source": []
  },
  {
   "cell_type": "code",
   "execution_count": null,
   "metadata": {},
   "outputs": [],
   "source": []
  },
  {
   "cell_type": "markdown",
   "metadata": {},
   "source": [
    "- STEP OF OUR PROJECT\n",
    "CLEANING....THE IDEAL WOULD BE TO END UP WITH A NEW CSV FILE FINAL THAT CONTAINS ALL THE DATA WE NEED IN A USABLE FORMAT.(EX: IF NUMBER THE EXEL CELL SHOULD BE A NUMBER AND NOT TEXT IN ORDER TO BE ABKLE TO DO STAT ON IT OR QUERY)"
   ]
  },
  {
   "cell_type": "markdown",
   "metadata": {},
   "source": [
    "- THE LAST CELL SHOULD BE THE SOURCES THAT WE GATHER ALONG THE WAY (THEORICAL CONCEPT, FORMULAS TO CAST FORMATS CELLS, MERGE COLUMNS OR FILE, SUPPRESS COLUMNS)... A BELIEVE THE SATISTIC SHOULD BE THE OBJECT OF ANOTHER PHASE. THE LAST PHASE BEING THE PRESENTATION OF OUR CONCLUSIONS: YES OR NO THERE IS CORRELATION BETWEEN CRIME AND PRICE OR WE DON'T KNOW."
   ]
  }
 ],
 "metadata": {
  "kernelspec": {
   "display_name": "Python 3.10.4 64-bit",
   "language": "python",
   "name": "python3"
  },
  "language_info": {
   "codemirror_mode": {
    "name": "ipython",
    "version": 3
   },
   "file_extension": ".py",
   "mimetype": "text/x-python",
   "name": "python",
   "nbconvert_exporter": "python",
   "pygments_lexer": "ipython3",
   "version": "3.10.4"
  },
  "orig_nbformat": 4,
  "vscode": {
   "interpreter": {
    "hash": "369f2c481f4da34e4445cda3fffd2e751bd1c4d706f27375911949ba6bb62e1c"
   }
  }
 },
 "nbformat": 4,
 "nbformat_minor": 2
}
