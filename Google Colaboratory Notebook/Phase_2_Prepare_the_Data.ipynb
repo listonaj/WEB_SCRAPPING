{
 "cells": [
  {
   "cell_type": "markdown",
   "metadata": {},
   "source": [
    "# GROUP PROJECT PHASE 2 - PREPARE THE DATA\n",
    "members\n",
    "date\n",
    "course"
   ]
  },
  {
   "cell_type": "markdown",
   "metadata": {},
   "source": [
    "- ADD PURPOSE HERE AND TOOLS WE ARE GOING TO USE.\n",
    "- PYTHON, JUPITER, VISUAL STUDIO CODe, csv files and where or how we found them.\n"
   ]
  },
  {
   "cell_type": "code",
   "execution_count": 40,
   "metadata": {},
   "outputs": [],
   "source": [
    "# import python library\n",
    "import pandas as pd\n",
    "import numpy as np"
   ]
  },
  {
   "cell_type": "code",
   "execution_count": 41,
   "metadata": {},
   "outputs": [],
   "source": [
    "# import listing file using pandas\n",
    "\n",
    "port_houses = pd.read_csv(\"listings.csv\")"
   ]
  },
  {
   "cell_type": "code",
   "execution_count": 42,
   "metadata": {},
   "outputs": [
    {
     "data": {
      "text/html": [
       "<div>\n",
       "<style scoped>\n",
       "    .dataframe tbody tr th:only-of-type {\n",
       "        vertical-align: middle;\n",
       "    }\n",
       "\n",
       "    .dataframe tbody tr th {\n",
       "        vertical-align: top;\n",
       "    }\n",
       "\n",
       "    .dataframe thead th {\n",
       "        text-align: right;\n",
       "    }\n",
       "</style>\n",
       "<table border=\"1\" class=\"dataframe\">\n",
       "  <thead>\n",
       "    <tr style=\"text-align: right;\">\n",
       "      <th></th>\n",
       "      <th>Address</th>\n",
       "      <th>Price</th>\n",
       "      <th>Beds</th>\n",
       "      <th>Baths</th>\n",
       "      <th>Sizes</th>\n",
       "    </tr>\n",
       "  </thead>\n",
       "  <tbody>\n",
       "    <tr>\n",
       "      <th>0</th>\n",
       "      <td>1150 NW Quimby St Unit 906, Portland, OR 97209</td>\n",
       "      <td>$1,039,900</td>\n",
       "      <td>2</td>\n",
       "      <td>3.0</td>\n",
       "      <td>1,612sqft</td>\n",
       "    </tr>\n",
       "    <tr>\n",
       "      <th>1</th>\n",
       "      <td>2939 SE Beyee Blvd, Portland, OR 97202</td>\n",
       "      <td>$1,675,000</td>\n",
       "      <td>5</td>\n",
       "      <td>3.0</td>\n",
       "      <td>4,592sqft</td>\n",
       "    </tr>\n",
       "    <tr>\n",
       "      <th>2</th>\n",
       "      <td>8420 NW Whitney St, Portland, OR 97231</td>\n",
       "      <td>$659,000</td>\n",
       "      <td>3</td>\n",
       "      <td>2.0</td>\n",
       "      <td>1,680sqft</td>\n",
       "    </tr>\n",
       "    <tr>\n",
       "      <th>3</th>\n",
       "      <td>12807 NW Bayonne Ln, Portland, OR 97229</td>\n",
       "      <td>$769,000</td>\n",
       "      <td>4</td>\n",
       "      <td>3.0</td>\n",
       "      <td>2,550sqft</td>\n",
       "    </tr>\n",
       "    <tr>\n",
       "      <th>4</th>\n",
       "      <td>1828 SW 18th Ave Apt 10, Portland, OR 97201</td>\n",
       "      <td>$400,000</td>\n",
       "      <td>2</td>\n",
       "      <td>2.0</td>\n",
       "      <td>1,046sqft</td>\n",
       "    </tr>\n",
       "  </tbody>\n",
       "</table>\n",
       "</div>"
      ],
      "text/plain": [
       "                                          Address        Price  Beds  Baths  \\\n",
       "0  1150 NW Quimby St Unit 906, Portland, OR 97209  $1,039,900      2    3.0   \n",
       "1          2939 SE Beyee Blvd, Portland, OR 97202  $1,675,000      5    3.0   \n",
       "2          8420 NW Whitney St, Portland, OR 97231    $659,000      3    2.0   \n",
       "3         12807 NW Bayonne Ln, Portland, OR 97229    $769,000      4    3.0   \n",
       "4     1828 SW 18th Ave Apt 10, Portland, OR 97201    $400,000      2    2.0   \n",
       "\n",
       "       Sizes  \n",
       "0  1,612sqft  \n",
       "1  4,592sqft  \n",
       "2  1,680sqft  \n",
       "3  2,550sqft  \n",
       "4  1,046sqft  "
      ]
     },
     "execution_count": 42,
     "metadata": {},
     "output_type": "execute_result"
    }
   ],
   "source": [
    "# displays the first 5 houses on sale in portland at this date\n",
    "port_houses.head()"
   ]
  },
  {
   "cell_type": "code",
   "execution_count": 43,
   "metadata": {},
   "outputs": [
    {
     "data": {
      "text/html": [
       "<div>\n",
       "<style scoped>\n",
       "    .dataframe tbody tr th:only-of-type {\n",
       "        vertical-align: middle;\n",
       "    }\n",
       "\n",
       "    .dataframe tbody tr th {\n",
       "        vertical-align: top;\n",
       "    }\n",
       "\n",
       "    .dataframe thead th {\n",
       "        text-align: right;\n",
       "    }\n",
       "</style>\n",
       "<table border=\"1\" class=\"dataframe\">\n",
       "  <thead>\n",
       "    <tr style=\"text-align: right;\">\n",
       "      <th></th>\n",
       "      <th>Address</th>\n",
       "      <th>Price</th>\n",
       "      <th>Beds</th>\n",
       "      <th>Baths</th>\n",
       "      <th>Sizes</th>\n",
       "    </tr>\n",
       "  </thead>\n",
       "  <tbody>\n",
       "    <tr>\n",
       "      <th>2242</th>\n",
       "      <td>14941 NW Shackelford Rd Unit 71, Portland, OR ...</td>\n",
       "      <td>$369,990</td>\n",
       "      <td>3</td>\n",
       "      <td>4.0</td>\n",
       "      <td>1,625sqft</td>\n",
       "    </tr>\n",
       "    <tr>\n",
       "      <th>2243</th>\n",
       "      <td>SE 176th Ave SE, Portland, OR 97236</td>\n",
       "      <td>$500,200</td>\n",
       "      <td>3</td>\n",
       "      <td>2.0</td>\n",
       "      <td>1,940sqft</td>\n",
       "    </tr>\n",
       "    <tr>\n",
       "      <th>2244</th>\n",
       "      <td>5904 NE Sandy Blvd, Portland, OR 97213</td>\n",
       "      <td>$655,000</td>\n",
       "      <td>2</td>\n",
       "      <td>1.0</td>\n",
       "      <td>2,264sqft</td>\n",
       "    </tr>\n",
       "    <tr>\n",
       "      <th>2245</th>\n",
       "      <td>SE 176th Ave, Portland, OR 97233</td>\n",
       "      <td>$635,900</td>\n",
       "      <td>3</td>\n",
       "      <td>3.0</td>\n",
       "      <td>2,600sqft</td>\n",
       "    </tr>\n",
       "    <tr>\n",
       "      <th>2246</th>\n",
       "      <td>7200 SE 158th Ave, Portland, OR 97236</td>\n",
       "      <td>$499,000</td>\n",
       "      <td>5</td>\n",
       "      <td>4.0</td>\n",
       "      <td>4,542sqft</td>\n",
       "    </tr>\n",
       "  </tbody>\n",
       "</table>\n",
       "</div>"
      ],
      "text/plain": [
       "                                                Address      Price  Beds  \\\n",
       "2242  14941 NW Shackelford Rd Unit 71, Portland, OR ...  $369,990      3   \n",
       "2243                SE 176th Ave SE, Portland, OR 97236  $500,200      3   \n",
       "2244             5904 NE Sandy Blvd, Portland, OR 97213  $655,000      2   \n",
       "2245                   SE 176th Ave, Portland, OR 97233  $635,900      3   \n",
       "2246              7200 SE 158th Ave, Portland, OR 97236  $499,000      5   \n",
       "\n",
       "      Baths      Sizes  \n",
       "2242    4.0  1,625sqft  \n",
       "2243    2.0  1,940sqft  \n",
       "2244    1.0  2,264sqft  \n",
       "2245    3.0  2,600sqft  \n",
       "2246    4.0  4,542sqft  "
      ]
     },
     "execution_count": 43,
     "metadata": {},
     "output_type": "execute_result"
    }
   ],
   "source": [
    "# displays the last 5 houses on sale at this date\n",
    "port_houses.tail()"
   ]
  },
  {
   "cell_type": "code",
   "execution_count": 44,
   "metadata": {},
   "outputs": [
    {
     "data": {
      "text/html": [
       "<div>\n",
       "<style scoped>\n",
       "    .dataframe tbody tr th:only-of-type {\n",
       "        vertical-align: middle;\n",
       "    }\n",
       "\n",
       "    .dataframe tbody tr th {\n",
       "        vertical-align: top;\n",
       "    }\n",
       "\n",
       "    .dataframe thead th {\n",
       "        text-align: right;\n",
       "    }\n",
       "</style>\n",
       "<table border=\"1\" class=\"dataframe\">\n",
       "  <thead>\n",
       "    <tr style=\"text-align: right;\">\n",
       "      <th></th>\n",
       "      <th>Address</th>\n",
       "      <th>Price</th>\n",
       "      <th>Sizes</th>\n",
       "    </tr>\n",
       "  </thead>\n",
       "  <tbody>\n",
       "    <tr>\n",
       "      <th>0</th>\n",
       "      <td>1150 NW Quimby St Unit 906, Portland, OR 97209</td>\n",
       "      <td>$1,039,900</td>\n",
       "      <td>1,612sqft</td>\n",
       "    </tr>\n",
       "    <tr>\n",
       "      <th>1</th>\n",
       "      <td>2939 SE Beyee Blvd, Portland, OR 97202</td>\n",
       "      <td>$1,675,000</td>\n",
       "      <td>4,592sqft</td>\n",
       "    </tr>\n",
       "    <tr>\n",
       "      <th>2</th>\n",
       "      <td>8420 NW Whitney St, Portland, OR 97231</td>\n",
       "      <td>$659,000</td>\n",
       "      <td>1,680sqft</td>\n",
       "    </tr>\n",
       "    <tr>\n",
       "      <th>3</th>\n",
       "      <td>12807 NW Bayonne Ln, Portland, OR 97229</td>\n",
       "      <td>$769,000</td>\n",
       "      <td>2,550sqft</td>\n",
       "    </tr>\n",
       "    <tr>\n",
       "      <th>4</th>\n",
       "      <td>1828 SW 18th Ave Apt 10, Portland, OR 97201</td>\n",
       "      <td>$400,000</td>\n",
       "      <td>1,046sqft</td>\n",
       "    </tr>\n",
       "  </tbody>\n",
       "</table>\n",
       "</div>"
      ],
      "text/plain": [
       "                                          Address        Price      Sizes\n",
       "0  1150 NW Quimby St Unit 906, Portland, OR 97209  $1,039,900   1,612sqft\n",
       "1          2939 SE Beyee Blvd, Portland, OR 97202  $1,675,000   4,592sqft\n",
       "2          8420 NW Whitney St, Portland, OR 97231    $659,000   1,680sqft\n",
       "3         12807 NW Bayonne Ln, Portland, OR 97229    $769,000   2,550sqft\n",
       "4     1828 SW 18th Ave Apt 10, Portland, OR 97201    $400,000   1,046sqft"
      ]
     },
     "execution_count": 44,
     "metadata": {},
     "output_type": "execute_result"
    }
   ],
   "source": [
    "# remove unuseful column and check result\n",
    "port_houses.drop(['Beds'], axis=1, inplace=True)\n",
    "port_houses.drop(['Baths'], axis=1, inplace=True)\n",
    "\n",
    "port_houses.head()"
   ]
  },
  {
   "cell_type": "code",
   "execution_count": 49,
   "metadata": {},
   "outputs": [
    {
     "data": {
      "text/html": [
       "<div>\n",
       "<style scoped>\n",
       "    .dataframe tbody tr th:only-of-type {\n",
       "        vertical-align: middle;\n",
       "    }\n",
       "\n",
       "    .dataframe tbody tr th {\n",
       "        vertical-align: top;\n",
       "    }\n",
       "\n",
       "    .dataframe thead th {\n",
       "        text-align: right;\n",
       "    }\n",
       "</style>\n",
       "<table border=\"1\" class=\"dataframe\">\n",
       "  <thead>\n",
       "    <tr style=\"text-align: right;\">\n",
       "      <th></th>\n",
       "      <th>Address</th>\n",
       "      <th>Price</th>\n",
       "      <th>Sizes</th>\n",
       "    </tr>\n",
       "  </thead>\n",
       "  <tbody>\n",
       "    <tr>\n",
       "      <th>0</th>\n",
       "      <td>False</td>\n",
       "      <td>False</td>\n",
       "      <td>False</td>\n",
       "    </tr>\n",
       "    <tr>\n",
       "      <th>1</th>\n",
       "      <td>False</td>\n",
       "      <td>False</td>\n",
       "      <td>False</td>\n",
       "    </tr>\n",
       "    <tr>\n",
       "      <th>2</th>\n",
       "      <td>False</td>\n",
       "      <td>False</td>\n",
       "      <td>False</td>\n",
       "    </tr>\n",
       "    <tr>\n",
       "      <th>3</th>\n",
       "      <td>False</td>\n",
       "      <td>False</td>\n",
       "      <td>False</td>\n",
       "    </tr>\n",
       "    <tr>\n",
       "      <th>4</th>\n",
       "      <td>False</td>\n",
       "      <td>False</td>\n",
       "      <td>False</td>\n",
       "    </tr>\n",
       "  </tbody>\n",
       "</table>\n",
       "</div>"
      ],
      "text/plain": [
       "   Address  Price  Sizes\n",
       "0    False  False  False\n",
       "1    False  False  False\n",
       "2    False  False  False\n",
       "3    False  False  False\n",
       "4    False  False  False"
      ]
     },
     "execution_count": 49,
     "metadata": {},
     "output_type": "execute_result"
    }
   ],
   "source": [
    "Number_od_NaNs = port_houses.isnull()\n",
    "\n",
    "Number_od_NaNs.head()"
   ]
  },
  {
   "cell_type": "markdown",
   "metadata": {},
   "source": [
    "- STEP OF OUR PROJECT\n",
    "CLEANING....THE IDEAL WOULD BE TO END UP WITH A NEW CSV FILE FINAL THAT CONTAINS ALL THE DATA WE NEED IN A USABLE FORMAT.(EX: IF NUMBER THE EXEL CELL SHOULD BE A NUMBER AND NOT TEXT IN ORDER TO BE ABKLE TO DO STAT ON IT OR QUERY)"
   ]
  },
  {
   "cell_type": "markdown",
   "metadata": {},
   "source": [
    "- THE LAST CELL SHOULD BE THE SOURCES THAT WE GATHER ALONG THE WAY (THEORICAL CONCEPT, FORMULAS TO CAST FORMATS CELLS, MERGE COLUMNS OR FILE, SUPPRESS COLUMNS)... A BELIEVE THE SATISTIC SHOULD BE THE OBJECT OF ANOTHER PHASE. THE LAST PHASE BEING THE PRESENTATION OF OUR CONCLUSIONS: YES OR NO THERE IS CORRELATION BETWEEN CRIME AND PRICE OR WE DON'T KNOW."
   ]
  }
 ],
 "metadata": {
  "kernelspec": {
   "display_name": "Python 3.10.4 64-bit",
   "language": "python",
   "name": "python3"
  },
  "language_info": {
   "codemirror_mode": {
    "name": "ipython",
    "version": 3
   },
   "file_extension": ".py",
   "mimetype": "text/x-python",
   "name": "python",
   "nbconvert_exporter": "python",
   "pygments_lexer": "ipython3",
   "version": "3.10.4"
  },
  "orig_nbformat": 4,
  "vscode": {
   "interpreter": {
    "hash": "369f2c481f4da34e4445cda3fffd2e751bd1c4d706f27375911949ba6bb62e1c"
   }
  }
 },
 "nbformat": 4,
 "nbformat_minor": 2
}
