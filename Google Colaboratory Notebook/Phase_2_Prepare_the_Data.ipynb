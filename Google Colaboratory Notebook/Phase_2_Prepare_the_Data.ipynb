{
 "cells": [
  {
   "cell_type": "markdown",
   "metadata": {},
   "source": [
    "# GROUP PROJECT PHASE 2 - PREPARE THE DATA\n",
    "members\n",
    "date\n",
    "course"
   ]
  },
  {
   "cell_type": "markdown",
   "metadata": {},
   "source": [
    "- ADD PURPOSE HERE AND TOOLS WE ARE GOING TO USE.\n",
    "- PYTHON, JUPITER, VISUAL STUDIO CODe, csv files and where or how we found them.\n"
   ]
  },
  {
   "cell_type": "code",
   "execution_count": 3,
   "metadata": {},
   "outputs": [],
   "source": [
    "# import python library\n",
    "import pandas as pd\n",
    "import numpy as np"
   ]
  },
  {
   "cell_type": "markdown",
   "metadata": {},
   "source": [
    "IMPORT LISTING FILE"
   ]
  },
  {
   "cell_type": "code",
   "execution_count": 4,
   "metadata": {},
   "outputs": [],
   "source": [
    "# import listing file using pandas\n",
    "\n",
    "port_houses = pd.read_csv(\"listings.csv\")"
   ]
  },
  {
   "cell_type": "markdown",
   "metadata": {},
   "source": [
    "INSPECT THE CONTENT OF THE FILE WITH HEAD AND TAIL FUNCTION"
   ]
  },
  {
   "cell_type": "code",
   "execution_count": 5,
   "metadata": {},
   "outputs": [
    {
     "data": {
      "text/html": [
       "<div>\n",
       "<style scoped>\n",
       "    .dataframe tbody tr th:only-of-type {\n",
       "        vertical-align: middle;\n",
       "    }\n",
       "\n",
       "    .dataframe tbody tr th {\n",
       "        vertical-align: top;\n",
       "    }\n",
       "\n",
       "    .dataframe thead th {\n",
       "        text-align: right;\n",
       "    }\n",
       "</style>\n",
       "<table border=\"1\" class=\"dataframe\">\n",
       "  <thead>\n",
       "    <tr style=\"text-align: right;\">\n",
       "      <th></th>\n",
       "      <th>Address</th>\n",
       "      <th>Price</th>\n",
       "      <th>Beds</th>\n",
       "      <th>Baths</th>\n",
       "      <th>Sizes</th>\n",
       "      <th>Postcode</th>\n",
       "      <th>size</th>\n",
       "    </tr>\n",
       "  </thead>\n",
       "  <tbody>\n",
       "    <tr>\n",
       "      <th>0</th>\n",
       "      <td>1150 NW Quimby St Unit 906, Portland, OR 97209</td>\n",
       "      <td>1039900</td>\n",
       "      <td>2</td>\n",
       "      <td>3.0</td>\n",
       "      <td>1,612sqft</td>\n",
       "      <td>97209</td>\n",
       "      <td>1612</td>\n",
       "    </tr>\n",
       "    <tr>\n",
       "      <th>1</th>\n",
       "      <td>2939 SE Beyee Blvd, Portland, OR 97202</td>\n",
       "      <td>1675000</td>\n",
       "      <td>5</td>\n",
       "      <td>3.0</td>\n",
       "      <td>4,592sqft</td>\n",
       "      <td>97202</td>\n",
       "      <td>4592</td>\n",
       "    </tr>\n",
       "    <tr>\n",
       "      <th>2</th>\n",
       "      <td>8420 NW Whitney St, Portland, OR 97231</td>\n",
       "      <td>659000</td>\n",
       "      <td>3</td>\n",
       "      <td>2.0</td>\n",
       "      <td>1,680sqft</td>\n",
       "      <td>97231</td>\n",
       "      <td>1680</td>\n",
       "    </tr>\n",
       "    <tr>\n",
       "      <th>3</th>\n",
       "      <td>12807 NW Bayonne Ln, Portland, OR 97229</td>\n",
       "      <td>769000</td>\n",
       "      <td>4</td>\n",
       "      <td>3.0</td>\n",
       "      <td>2,550sqft</td>\n",
       "      <td>97229</td>\n",
       "      <td>2550</td>\n",
       "    </tr>\n",
       "    <tr>\n",
       "      <th>4</th>\n",
       "      <td>1828 SW 18th Ave Apt 10, Portland, OR 97201</td>\n",
       "      <td>400000</td>\n",
       "      <td>2</td>\n",
       "      <td>2.0</td>\n",
       "      <td>1,046sqft</td>\n",
       "      <td>97201</td>\n",
       "      <td>1046</td>\n",
       "    </tr>\n",
       "  </tbody>\n",
       "</table>\n",
       "</div>"
      ],
      "text/plain": [
       "                                          Address    Price  Beds  Baths  \\\n",
       "0  1150 NW Quimby St Unit 906, Portland, OR 97209  1039900     2    3.0   \n",
       "1          2939 SE Beyee Blvd, Portland, OR 97202  1675000     5    3.0   \n",
       "2          8420 NW Whitney St, Portland, OR 97231   659000     3    2.0   \n",
       "3         12807 NW Bayonne Ln, Portland, OR 97229   769000     4    3.0   \n",
       "4     1828 SW 18th Ave Apt 10, Portland, OR 97201   400000     2    2.0   \n",
       "\n",
       "       Sizes  Postcode  size  \n",
       "0  1,612sqft     97209  1612  \n",
       "1  4,592sqft     97202  4592  \n",
       "2  1,680sqft     97231  1680  \n",
       "3  2,550sqft     97229  2550  \n",
       "4  1,046sqft     97201  1046  "
      ]
     },
     "execution_count": 5,
     "metadata": {},
     "output_type": "execute_result"
    }
   ],
   "source": [
    "# displays the first 5 houses on sale in portland at this date\n",
    "port_houses.head()"
   ]
  },
  {
   "cell_type": "code",
   "execution_count": 6,
   "metadata": {},
   "outputs": [
    {
     "data": {
      "text/html": [
       "<div>\n",
       "<style scoped>\n",
       "    .dataframe tbody tr th:only-of-type {\n",
       "        vertical-align: middle;\n",
       "    }\n",
       "\n",
       "    .dataframe tbody tr th {\n",
       "        vertical-align: top;\n",
       "    }\n",
       "\n",
       "    .dataframe thead th {\n",
       "        text-align: right;\n",
       "    }\n",
       "</style>\n",
       "<table border=\"1\" class=\"dataframe\">\n",
       "  <thead>\n",
       "    <tr style=\"text-align: right;\">\n",
       "      <th></th>\n",
       "      <th>Address</th>\n",
       "      <th>Price</th>\n",
       "      <th>Beds</th>\n",
       "      <th>Baths</th>\n",
       "      <th>Sizes</th>\n",
       "      <th>Postcode</th>\n",
       "      <th>size</th>\n",
       "    </tr>\n",
       "  </thead>\n",
       "  <tbody>\n",
       "    <tr>\n",
       "      <th>2236</th>\n",
       "      <td>14941 NW Shackelford Rd Unit 71, Portland, OR ...</td>\n",
       "      <td>369990</td>\n",
       "      <td>3</td>\n",
       "      <td>4.0</td>\n",
       "      <td>1,625sqft</td>\n",
       "      <td>97229</td>\n",
       "      <td>1625</td>\n",
       "    </tr>\n",
       "    <tr>\n",
       "      <th>2237</th>\n",
       "      <td>SE 176th Ave SE, Portland, OR 97236</td>\n",
       "      <td>500200</td>\n",
       "      <td>3</td>\n",
       "      <td>2.0</td>\n",
       "      <td>1,940sqft</td>\n",
       "      <td>97236</td>\n",
       "      <td>1940</td>\n",
       "    </tr>\n",
       "    <tr>\n",
       "      <th>2238</th>\n",
       "      <td>5904 NE Sandy Blvd, Portland, OR 97213</td>\n",
       "      <td>655000</td>\n",
       "      <td>2</td>\n",
       "      <td>1.0</td>\n",
       "      <td>2,264sqft</td>\n",
       "      <td>97213</td>\n",
       "      <td>2264</td>\n",
       "    </tr>\n",
       "    <tr>\n",
       "      <th>2239</th>\n",
       "      <td>SE 176th Ave, Portland, OR 97233</td>\n",
       "      <td>635900</td>\n",
       "      <td>3</td>\n",
       "      <td>3.0</td>\n",
       "      <td>2,600sqft</td>\n",
       "      <td>97233</td>\n",
       "      <td>2600</td>\n",
       "    </tr>\n",
       "    <tr>\n",
       "      <th>2240</th>\n",
       "      <td>7200 SE 158th Ave, Portland, OR 97236</td>\n",
       "      <td>499000</td>\n",
       "      <td>5</td>\n",
       "      <td>4.0</td>\n",
       "      <td>4,542sqft</td>\n",
       "      <td>97236</td>\n",
       "      <td>4542</td>\n",
       "    </tr>\n",
       "  </tbody>\n",
       "</table>\n",
       "</div>"
      ],
      "text/plain": [
       "                                                Address   Price  Beds  Baths  \\\n",
       "2236  14941 NW Shackelford Rd Unit 71, Portland, OR ...  369990     3    4.0   \n",
       "2237                SE 176th Ave SE, Portland, OR 97236  500200     3    2.0   \n",
       "2238             5904 NE Sandy Blvd, Portland, OR 97213  655000     2    1.0   \n",
       "2239                   SE 176th Ave, Portland, OR 97233  635900     3    3.0   \n",
       "2240              7200 SE 158th Ave, Portland, OR 97236  499000     5    4.0   \n",
       "\n",
       "          Sizes  Postcode  size  \n",
       "2236  1,625sqft     97229  1625  \n",
       "2237  1,940sqft     97236  1940  \n",
       "2238  2,264sqft     97213  2264  \n",
       "2239  2,600sqft     97233  2600  \n",
       "2240  4,542sqft     97236  4542  "
      ]
     },
     "execution_count": 6,
     "metadata": {},
     "output_type": "execute_result"
    }
   ],
   "source": [
    "# displays the last 5 houses on sale at this date\n",
    "port_houses.tail()"
   ]
  },
  {
   "cell_type": "markdown",
   "metadata": {},
   "source": [
    "DROPING UNUSEFUL COLUMS, NOTE THAT IT DOES NOT MEAN THAT THE COLUMNS DISEPPEAR FROM THE FILE. IT JUST REMOVED FROM THE VARIABLE 'PORT_HOUSES'"
   ]
  },
  {
   "cell_type": "code",
   "execution_count": 7,
   "metadata": {},
   "outputs": [
    {
     "data": {
      "text/html": [
       "<div>\n",
       "<style scoped>\n",
       "    .dataframe tbody tr th:only-of-type {\n",
       "        vertical-align: middle;\n",
       "    }\n",
       "\n",
       "    .dataframe tbody tr th {\n",
       "        vertical-align: top;\n",
       "    }\n",
       "\n",
       "    .dataframe thead th {\n",
       "        text-align: right;\n",
       "    }\n",
       "</style>\n",
       "<table border=\"1\" class=\"dataframe\">\n",
       "  <thead>\n",
       "    <tr style=\"text-align: right;\">\n",
       "      <th></th>\n",
       "      <th>Address</th>\n",
       "      <th>Price</th>\n",
       "      <th>Postcode</th>\n",
       "      <th>size</th>\n",
       "    </tr>\n",
       "  </thead>\n",
       "  <tbody>\n",
       "    <tr>\n",
       "      <th>0</th>\n",
       "      <td>1150 NW Quimby St Unit 906, Portland, OR 97209</td>\n",
       "      <td>1039900</td>\n",
       "      <td>97209</td>\n",
       "      <td>1612</td>\n",
       "    </tr>\n",
       "    <tr>\n",
       "      <th>1</th>\n",
       "      <td>2939 SE Beyee Blvd, Portland, OR 97202</td>\n",
       "      <td>1675000</td>\n",
       "      <td>97202</td>\n",
       "      <td>4592</td>\n",
       "    </tr>\n",
       "    <tr>\n",
       "      <th>2</th>\n",
       "      <td>8420 NW Whitney St, Portland, OR 97231</td>\n",
       "      <td>659000</td>\n",
       "      <td>97231</td>\n",
       "      <td>1680</td>\n",
       "    </tr>\n",
       "    <tr>\n",
       "      <th>3</th>\n",
       "      <td>12807 NW Bayonne Ln, Portland, OR 97229</td>\n",
       "      <td>769000</td>\n",
       "      <td>97229</td>\n",
       "      <td>2550</td>\n",
       "    </tr>\n",
       "    <tr>\n",
       "      <th>4</th>\n",
       "      <td>1828 SW 18th Ave Apt 10, Portland, OR 97201</td>\n",
       "      <td>400000</td>\n",
       "      <td>97201</td>\n",
       "      <td>1046</td>\n",
       "    </tr>\n",
       "  </tbody>\n",
       "</table>\n",
       "</div>"
      ],
      "text/plain": [
       "                                          Address    Price  Postcode  size\n",
       "0  1150 NW Quimby St Unit 906, Portland, OR 97209  1039900     97209  1612\n",
       "1          2939 SE Beyee Blvd, Portland, OR 97202  1675000     97202  4592\n",
       "2          8420 NW Whitney St, Portland, OR 97231   659000     97231  1680\n",
       "3         12807 NW Bayonne Ln, Portland, OR 97229   769000     97229  2550\n",
       "4     1828 SW 18th Ave Apt 10, Portland, OR 97201   400000     97201  1046"
      ]
     },
     "execution_count": 7,
     "metadata": {},
     "output_type": "execute_result"
    }
   ],
   "source": [
    "# remove unuseful column and check result\n",
    "port_houses.drop(['Beds'], axis=1, inplace=True)\n",
    "port_houses.drop(['Baths'], axis=1, inplace=True)\n",
    "port_houses.drop(['Sizes'], axis=1, inplace=True)\n",
    "\n",
    "port_houses.head()"
   ]
  },
  {
   "cell_type": "markdown",
   "metadata": {},
   "source": [
    "I have kept the address complete(complete with the post code as it might be useful if we have to plug them on a map later on)"
   ]
  },
  {
   "cell_type": "code",
   "execution_count": 8,
   "metadata": {},
   "outputs": [
    {
     "data": {
      "text/html": [
       "<div>\n",
       "<style scoped>\n",
       "    .dataframe tbody tr th:only-of-type {\n",
       "        vertical-align: middle;\n",
       "    }\n",
       "\n",
       "    .dataframe tbody tr th {\n",
       "        vertical-align: top;\n",
       "    }\n",
       "\n",
       "    .dataframe thead th {\n",
       "        text-align: right;\n",
       "    }\n",
       "</style>\n",
       "<table border=\"1\" class=\"dataframe\">\n",
       "  <thead>\n",
       "    <tr style=\"text-align: right;\">\n",
       "      <th></th>\n",
       "      <th>Address</th>\n",
       "      <th>Price</th>\n",
       "      <th>Postcode</th>\n",
       "      <th>size</th>\n",
       "    </tr>\n",
       "  </thead>\n",
       "  <tbody>\n",
       "    <tr>\n",
       "      <th>0</th>\n",
       "      <td>False</td>\n",
       "      <td>False</td>\n",
       "      <td>False</td>\n",
       "      <td>False</td>\n",
       "    </tr>\n",
       "    <tr>\n",
       "      <th>1</th>\n",
       "      <td>False</td>\n",
       "      <td>False</td>\n",
       "      <td>False</td>\n",
       "      <td>False</td>\n",
       "    </tr>\n",
       "    <tr>\n",
       "      <th>2</th>\n",
       "      <td>False</td>\n",
       "      <td>False</td>\n",
       "      <td>False</td>\n",
       "      <td>False</td>\n",
       "    </tr>\n",
       "    <tr>\n",
       "      <th>3</th>\n",
       "      <td>False</td>\n",
       "      <td>False</td>\n",
       "      <td>False</td>\n",
       "      <td>False</td>\n",
       "    </tr>\n",
       "    <tr>\n",
       "      <th>4</th>\n",
       "      <td>False</td>\n",
       "      <td>False</td>\n",
       "      <td>False</td>\n",
       "      <td>False</td>\n",
       "    </tr>\n",
       "  </tbody>\n",
       "</table>\n",
       "</div>"
      ],
      "text/plain": [
       "   Address  Price  Postcode   size\n",
       "0    False  False     False  False\n",
       "1    False  False     False  False\n",
       "2    False  False     False  False\n",
       "3    False  False     False  False\n",
       "4    False  False     False  False"
      ]
     },
     "execution_count": 8,
     "metadata": {},
     "output_type": "execute_result"
    }
   ],
   "source": [
    "Number_of_NaNs = port_houses.isnull()\n",
    "\n",
    "Number_of_NaNs.head()"
   ]
  },
  {
   "cell_type": "code",
   "execution_count": 9,
   "metadata": {},
   "outputs": [
    {
     "data": {
      "text/plain": [
       "Address     0\n",
       "Price       0\n",
       "Postcode    0\n",
       "size        0\n",
       "dtype: int64"
      ]
     },
     "execution_count": 9,
     "metadata": {},
     "output_type": "execute_result"
    }
   ],
   "source": [
    "NaNs_per_column = Number_of_NaNs.sum()\n",
    "NaNs_per_column\n"
   ]
  },
  {
   "cell_type": "markdown",
   "metadata": {},
   "source": [
    "Note that there are no NaNs. This\n",
    "\n",
    "SHOWING THE TYPE OF VARIABLES"
   ]
  },
  {
   "cell_type": "code",
   "execution_count": 10,
   "metadata": {},
   "outputs": [
    {
     "data": {
      "text/plain": [
       "Address     object\n",
       "Price        int64\n",
       "Postcode     int64\n",
       "size         int64\n",
       "dtype: object"
      ]
     },
     "execution_count": 10,
     "metadata": {},
     "output_type": "execute_result"
    }
   ],
   "source": [
    "port_houses.dtypes"
   ]
  },
  {
   "cell_type": "markdown",
   "metadata": {},
   "source": [
    "From there, we know that the address should stay of that format for now but we expect the other values such as 'price' and 'size' to be of type float. Some works on the csv file itself using Exel might be necessary before saving the work into a new csv file listing_compact.\n",
    "\n",
    "STEP 4 - CONEVRTING STRING INTO A FLOAT FOR SIZE, PRICE AND INTEGER FOR THE POST CODE( WE DON'T WANT COMA FOR THE POST CODE) see cell 14 of the lab 3.2.1.6 for explanation"
   ]
  },
  {
   "cell_type": "code",
   "execution_count": 11,
   "metadata": {},
   "outputs": [
    {
     "data": {
      "text/html": [
       "<div>\n",
       "<style scoped>\n",
       "    .dataframe tbody tr th:only-of-type {\n",
       "        vertical-align: middle;\n",
       "    }\n",
       "\n",
       "    .dataframe tbody tr th {\n",
       "        vertical-align: top;\n",
       "    }\n",
       "\n",
       "    .dataframe thead th {\n",
       "        text-align: right;\n",
       "    }\n",
       "</style>\n",
       "<table border=\"1\" class=\"dataframe\">\n",
       "  <thead>\n",
       "    <tr style=\"text-align: right;\">\n",
       "      <th></th>\n",
       "      <th>Address</th>\n",
       "      <th>Price</th>\n",
       "      <th>Postcode</th>\n",
       "      <th>size</th>\n",
       "    </tr>\n",
       "  </thead>\n",
       "  <tbody>\n",
       "    <tr>\n",
       "      <th>0</th>\n",
       "      <td>1150 NW Quimby St Unit 906, Portland, OR 97209</td>\n",
       "      <td>1039900.0</td>\n",
       "      <td>97209</td>\n",
       "      <td>1612.0</td>\n",
       "    </tr>\n",
       "    <tr>\n",
       "      <th>1</th>\n",
       "      <td>2939 SE Beyee Blvd, Portland, OR 97202</td>\n",
       "      <td>1675000.0</td>\n",
       "      <td>97202</td>\n",
       "      <td>4592.0</td>\n",
       "    </tr>\n",
       "    <tr>\n",
       "      <th>2</th>\n",
       "      <td>8420 NW Whitney St, Portland, OR 97231</td>\n",
       "      <td>659000.0</td>\n",
       "      <td>97231</td>\n",
       "      <td>1680.0</td>\n",
       "    </tr>\n",
       "    <tr>\n",
       "      <th>3</th>\n",
       "      <td>12807 NW Bayonne Ln, Portland, OR 97229</td>\n",
       "      <td>769000.0</td>\n",
       "      <td>97229</td>\n",
       "      <td>2550.0</td>\n",
       "    </tr>\n",
       "    <tr>\n",
       "      <th>4</th>\n",
       "      <td>1828 SW 18th Ave Apt 10, Portland, OR 97201</td>\n",
       "      <td>400000.0</td>\n",
       "      <td>97201</td>\n",
       "      <td>1046.0</td>\n",
       "    </tr>\n",
       "  </tbody>\n",
       "</table>\n",
       "</div>"
      ],
      "text/plain": [
       "                                          Address      Price  Postcode    size\n",
       "0  1150 NW Quimby St Unit 906, Portland, OR 97209  1039900.0     97209  1612.0\n",
       "1          2939 SE Beyee Blvd, Portland, OR 97202  1675000.0     97202  4592.0\n",
       "2          8420 NW Whitney St, Portland, OR 97231   659000.0     97231  1680.0\n",
       "3         12807 NW Bayonne Ln, Portland, OR 97229   769000.0     97229  2550.0\n",
       "4     1828 SW 18th Ave Apt 10, Portland, OR 97201   400000.0     97201  1046.0"
      ]
     },
     "execution_count": 11,
     "metadata": {},
     "output_type": "execute_result"
    }
   ],
   "source": [
    "pd.options.mode.chained_assignment = None\n",
    "\n",
    "port_houses['Price'] = port_houses['Price'].apply(lambda val: float(val))\n",
    "port_houses['size'] = port_houses['size'].apply(lambda val: float(val))\n",
    "port_houses['Postcode'] = port_houses['Postcode'].apply(lambda val: int(val))\n",
    "\n",
    "port_houses.head()\n",
    "\n",
    "\n",
    "\n"
   ]
  },
  {
   "cell_type": "code",
   "execution_count": 12,
   "metadata": {},
   "outputs": [
    {
     "data": {
      "text/plain": [
       "Address      object\n",
       "Price       float64\n",
       "Postcode      int64\n",
       "size        float64\n",
       "dtype: object"
      ]
     },
     "execution_count": 12,
     "metadata": {},
     "output_type": "execute_result"
    }
   ],
   "source": [
    "port_houses.dtypes"
   ]
  },
  {
   "cell_type": "code",
   "execution_count": 13,
   "metadata": {},
   "outputs": [],
   "source": [
    "port_houses.to_csv('port_houses_compact.csv')"
   ]
  },
  {
   "cell_type": "markdown",
   "metadata": {},
   "source": [
    "- STEP OF OUR PROJECT\n",
    "CLEANING....THE IDEAL WOULD BE TO END UP WITH A NEW CSV FILE FINAL THAT CONTAINS ALL THE DATA WE NEED IN A USABLE FORMAT.(EX: IF NUMBER THE EXEL CELL SHOULD BE A NUMBER AND NOT TEXT IN ORDER TO BE ABKLE TO DO STAT ON IT OR QUERY)"
   ]
  },
  {
   "cell_type": "markdown",
   "metadata": {},
   "source": [
    "- THE LAST CELL SHOULD BE THE SOURCES THAT WE GATHER ALONG THE WAY (THEORICAL CONCEPT, FORMULAS TO CAST FORMATS CELLS, MERGE COLUMNS OR FILE, SUPPRESS COLUMNS)... A BELIEVE THE SATISTIC SHOULD BE THE OBJECT OF ANOTHER PHASE. THE LAST PHASE BEING THE PRESENTATION OF OUR CONCLUSIONS: YES OR NO THERE IS CORRELATION BETWEEN CRIME AND PRICE OR WE DON'T KNOW."
   ]
  }
 ],
 "metadata": {
  "kernelspec": {
   "display_name": "Python 3.10.4 64-bit",
   "language": "python",
   "name": "python3"
  },
  "language_info": {
   "codemirror_mode": {
    "name": "ipython",
    "version": 3
   },
   "file_extension": ".py",
   "mimetype": "text/x-python",
   "name": "python",
   "nbconvert_exporter": "python",
   "pygments_lexer": "ipython3",
   "version": "3.10.4"
  },
  "orig_nbformat": 4,
  "vscode": {
   "interpreter": {
    "hash": "369f2c481f4da34e4445cda3fffd2e751bd1c4d706f27375911949ba6bb62e1c"
   }
  }
 },
 "nbformat": 4,
 "nbformat_minor": 2
}
