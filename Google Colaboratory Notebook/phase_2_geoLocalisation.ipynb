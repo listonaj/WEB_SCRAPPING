{
 "cells": [
  {
   "cell_type": "code",
   "execution_count": 78,
   "metadata": {},
   "outputs": [],
   "source": [
    "# importing geopy library\n",
    "from geopy.geocoders import Nominatim\n",
    "import numpy as np\n",
    "import pandas as pd\n",
    "from csv import DictWriter\n"
   ]
  },
  {
   "cell_type": "code",
   "execution_count": 79,
   "metadata": {},
   "outputs": [],
   "source": [
    "#importing 'Port_houses_compact' file \n",
    "# import listing file using pandas\n",
    "\n",
    "port_houses = pd.read_csv(\"./Data/port_houses_compact.csv\")"
   ]
  },
  {
   "cell_type": "code",
   "execution_count": 80,
   "metadata": {},
   "outputs": [
    {
     "data": {
      "text/plain": [
       "Index(['Column1', 'Address', 'Price', 'Zip Code', 'Size', 'Neighbourhood'], dtype='object')"
      ]
     },
     "execution_count": 80,
     "metadata": {},
     "output_type": "execute_result"
    }
   ],
   "source": [
    "port_houses.columns"
   ]
  },
  {
   "cell_type": "code",
   "execution_count": 81,
   "metadata": {},
   "outputs": [],
   "source": [
    "port_houses.drop(['Price', 'Size', 'Zip Code','Neighbourhood'], axis = 1, inplace = True)\n",
    "\n"
   ]
  },
  {
   "cell_type": "code",
   "execution_count": 82,
   "metadata": {},
   "outputs": [
    {
     "data": {
      "text/html": [
       "<div>\n",
       "<style scoped>\n",
       "    .dataframe tbody tr th:only-of-type {\n",
       "        vertical-align: middle;\n",
       "    }\n",
       "\n",
       "    .dataframe tbody tr th {\n",
       "        vertical-align: top;\n",
       "    }\n",
       "\n",
       "    .dataframe thead th {\n",
       "        text-align: right;\n",
       "    }\n",
       "</style>\n",
       "<table border=\"1\" class=\"dataframe\">\n",
       "  <thead>\n",
       "    <tr style=\"text-align: right;\">\n",
       "      <th></th>\n",
       "      <th>Column1</th>\n",
       "      <th>Address</th>\n",
       "    </tr>\n",
       "  </thead>\n",
       "  <tbody>\n",
       "    <tr>\n",
       "      <th>0</th>\n",
       "      <td>37</td>\n",
       "      <td>7825 SE Crystal Springs Blvd, Portland, OR 97206</td>\n",
       "    </tr>\n",
       "    <tr>\n",
       "      <th>1</th>\n",
       "      <td>84</td>\n",
       "      <td>3306 SE 77th Ave, Portland, OR 97206</td>\n",
       "    </tr>\n",
       "    <tr>\n",
       "      <th>2</th>\n",
       "      <td>96</td>\n",
       "      <td>4412 SE 47th Ave, Portland, OR 97206</td>\n",
       "    </tr>\n",
       "    <tr>\n",
       "      <th>3</th>\n",
       "      <td>101</td>\n",
       "      <td>5420 SE Knapp St, Portland, OR 97206</td>\n",
       "    </tr>\n",
       "    <tr>\n",
       "      <th>4</th>\n",
       "      <td>103</td>\n",
       "      <td>5424 SE Knapp St, Portland, OR 97206</td>\n",
       "    </tr>\n",
       "  </tbody>\n",
       "</table>\n",
       "</div>"
      ],
      "text/plain": [
       "   Column1                                           Address\n",
       "0       37  7825 SE Crystal Springs Blvd, Portland, OR 97206\n",
       "1       84              3306 SE 77th Ave, Portland, OR 97206\n",
       "2       96              4412 SE 47th Ave, Portland, OR 97206\n",
       "3      101              5420 SE Knapp St, Portland, OR 97206\n",
       "4      103              5424 SE Knapp St, Portland, OR 97206"
      ]
     },
     "execution_count": 82,
     "metadata": {},
     "output_type": "execute_result"
    }
   ],
   "source": [
    "port_houses.head()"
   ]
  },
  {
   "cell_type": "code",
   "execution_count": 83,
   "metadata": {},
   "outputs": [],
   "source": [
    "port_houses.drop(['Column1'], axis = 1, inplace=True)"
   ]
  },
  {
   "cell_type": "code",
   "execution_count": 84,
   "metadata": {},
   "outputs": [
    {
     "data": {
      "text/html": [
       "<div>\n",
       "<style scoped>\n",
       "    .dataframe tbody tr th:only-of-type {\n",
       "        vertical-align: middle;\n",
       "    }\n",
       "\n",
       "    .dataframe tbody tr th {\n",
       "        vertical-align: top;\n",
       "    }\n",
       "\n",
       "    .dataframe thead th {\n",
       "        text-align: right;\n",
       "    }\n",
       "</style>\n",
       "<table border=\"1\" class=\"dataframe\">\n",
       "  <thead>\n",
       "    <tr style=\"text-align: right;\">\n",
       "      <th></th>\n",
       "      <th>Address</th>\n",
       "    </tr>\n",
       "  </thead>\n",
       "  <tbody>\n",
       "    <tr>\n",
       "      <th>0</th>\n",
       "      <td>7825 SE Crystal Springs Blvd, Portland, OR 97206</td>\n",
       "    </tr>\n",
       "    <tr>\n",
       "      <th>1</th>\n",
       "      <td>3306 SE 77th Ave, Portland, OR 97206</td>\n",
       "    </tr>\n",
       "    <tr>\n",
       "      <th>2</th>\n",
       "      <td>4412 SE 47th Ave, Portland, OR 97206</td>\n",
       "    </tr>\n",
       "    <tr>\n",
       "      <th>3</th>\n",
       "      <td>5420 SE Knapp St, Portland, OR 97206</td>\n",
       "    </tr>\n",
       "    <tr>\n",
       "      <th>4</th>\n",
       "      <td>5424 SE Knapp St, Portland, OR 97206</td>\n",
       "    </tr>\n",
       "  </tbody>\n",
       "</table>\n",
       "</div>"
      ],
      "text/plain": [
       "                                            Address\n",
       "0  7825 SE Crystal Springs Blvd, Portland, OR 97206\n",
       "1              3306 SE 77th Ave, Portland, OR 97206\n",
       "2              4412 SE 47th Ave, Portland, OR 97206\n",
       "3              5420 SE Knapp St, Portland, OR 97206\n",
       "4              5424 SE Knapp St, Portland, OR 97206"
      ]
     },
     "execution_count": 84,
     "metadata": {},
     "output_type": "execute_result"
    }
   ],
   "source": [
    "port_houses.head()"
   ]
  },
  {
   "cell_type": "code",
   "execution_count": 85,
   "metadata": {},
   "outputs": [
    {
     "data": {
      "text/plain": [
       "pandas.core.series.Series"
      ]
     },
     "execution_count": 85,
     "metadata": {},
     "output_type": "execute_result"
    }
   ],
   "source": [
    "addresses = port_houses['Address']\n",
    "\n",
    "type(addresses)\n"
   ]
  },
  {
   "cell_type": "code",
   "execution_count": 86,
   "metadata": {},
   "outputs": [
    {
     "data": {
      "text/plain": [
       "'7825 SE Crystal Springs Blvd, Portland, OR 97206'"
      ]
     },
     "execution_count": 86,
     "metadata": {},
     "output_type": "execute_result"
    }
   ],
   "source": [
    "addresses[0]"
   ]
  },
  {
   "cell_type": "code",
   "execution_count": 87,
   "metadata": {},
   "outputs": [],
   "source": [
    "latitudes=[]\n",
    "longitudes=[]\n",
    "\n",
    "for element in addresses:\n",
    "\n",
    "    # calling the Nominatim tool\n",
    "    loc = Nominatim(user_agent=\"GetLoc\")\n",
    " \n",
    "    # entering the location name\n",
    "    addr = loc.geocode(element.replace(\",\",\"\"))\n",
    "    \n",
    "    if addr is None:\n",
    "        latitudes.append(None)\n",
    "        longitudes.append(None)\n",
    "    else:\n",
    "        latitude = addr.latitude\n",
    "        longitude = addr.longitude \n",
    "        latitudes.append(latitude)\n",
    "        longitudes.append(longitude)"
   ]
  },
  {
   "cell_type": "code",
   "execution_count": 88,
   "metadata": {},
   "outputs": [
    {
     "name": "stdout",
     "output_type": "stream",
     "text": [
      "[45.46527025, 45.49854175, 45.49110685, 45.469933865771814, 45.469933838926174, 45.467692489795915, 45.4949898, 45.48487945, 45.4836675, 45.484079, 45.46819185, 45.468321399999994, 45.50288815, 45.46361895, 45.463902700000006, 45.4841659, 45.482231999999996, 45.47458495, 45.49042795, 45.4971079, 45.47206075, 45.487510799999995, None, None, 45.470574949494946, 45.473368300000004, 45.484865549999995, 45.476458699999995, 45.48008205, 45.504819350000005, 45.48971365, None, 45.4929833, 45.47358335, 45.4658477, 45.4957551, 45.474975799999996, 45.49179445, 45.486558349999996, 45.48213765, 45.4709241, 45.49262105, 45.4793594, 45.498418799999996, 45.47609775, 45.4771965, 45.4936556, 45.50060775, 45.50386365, 45.503978950000004, 45.50448295918367, 45.478563, 45.4701981, 45.47509265, 45.4966912, 45.502760249999994, 45.46810055, 45.4807189, 45.4918866, 45.475364400000004, None, 45.494494450000005, 45.49328375, 45.48708225, 45.503098757575756, 45.49495205, 45.501992900000005, 45.4768736, 45.4587585, None, 45.49266055, 45.492405250000004, 45.501231250000004, 45.467043204081634, 45.4675192, 45.47731875, 45.49729454618473, 45.46517635, 45.48445155, 45.503858199999996, 45.50262455, 45.49370555, 45.48923385, 45.50195665, 45.4966467, 45.46662258585859, 45.4678585, 45.470019050000005, 45.5003951, 45.49086414999999, 45.468412900000004, 45.469723, 45.469723, 45.4684325, 45.464699100000004, 45.47057496969697, 45.47492405, None, 45.49387605, 45.48374905, 45.47236135, 45.49097775, 45.49960745, 45.49934075, 45.4648739, 45.49818865, 45.46687355, 45.48625835, 45.4873429, 45.47477088888889, 45.462848199999996, 45.4784528, 45.46825175, 45.4565714, 45.4949515, None, 45.4807613, None, None, 45.4785022, 45.4674452, 45.479453449999994, 45.4914144, 45.49046825, 45.4663257, 45.4852257, 45.492603849999995, 45.46262675, None, 45.48315169999999, 45.478594650000005, 45.471803, 45.5019763, 45.48863025, 45.49050275, 45.49930835, 45.50327595, 45.490510150000006, 45.475485750000004, 45.488137550000005, 45.4698359, 45.49593405, 45.48391575, 45.4832866, 45.4814212, 45.48828925, 45.47114825, 45.499516434343434, 45.495909, 45.4862349, 45.46466635, 45.49139952659574, 45.4985155, 45.4861714, 45.4645550738255, 45.465140149999996, 45.49084115, 45.464605399999996, 45.4711804, 45.5038347, 45.49685445, 45.49372065]\n",
      "[-122.58277665, -122.5836181, -122.61361574983016, -122.6070182818792, -122.60698873825504, -122.59969471428572, -122.60119164926843, -122.61408455082929, -122.60356265, -122.59422897486544, -122.59203765000001, -122.59153600017657, -122.59131597520019, -122.59730345, -122.59476546941252, -122.5885049, -122.61028325409795, -122.61432489983166, -122.58529680000001, -122.59762356431372, -122.6134839749859, -122.60619030000001, None, None, -122.61476052525254, -122.6078849, -122.61217740000001, -122.59107824720434, -122.587783, -122.59963082477307, -122.61611617483749, None, -122.58961800236824, -122.59355295016125, -122.61762942503034, -122.58611328349602, -122.59254009236676, -122.61558212511125, -122.59886854999999, -122.59661817316945, -122.5950118, -122.59455919999999, -122.59512055017731, -122.6121861, -122.59733184435825, -122.60072579983569, -122.59657782266865, -122.58963027268956, -122.59426435253928, -122.60048865900772, -122.59119124489797, -122.60284149236915, -122.5866865, -122.5974488004027, -122.59757277464666, -122.61126311911187, -122.60455572087514, -122.59636629982296, -122.59207040000001, -122.60383164185575, None, -122.59299017477308, -122.58769557513946, -122.58734064911309, -122.61191170707072, -122.594488499825, -122.60181251581133, -122.6171686, -122.59368072493541, None, -122.58408384298733, -122.5965824, -122.59149132158134, -122.602058, -122.5946811751302, -122.60843982521766, -122.5881220562249, -122.61036645, -122.60559234870706, -122.61723617931321, -122.59053801758182, -122.60840119686225, -122.58632017508845, -122.61377617054487, -122.57954319203091, -122.60121267676767, -122.61821445288089, -122.61897859999999, -122.59715713734042, -122.59716327496825, -122.59759022490826, -122.61271514285714, -122.61261016326532, -122.59935437487277, -122.5983516748452, -122.61477351515153, -122.58622155, None, -122.61287685658533, -122.59144255, -122.61925259163726, -122.5945782492999, -122.5795672, -122.60783495017162, -122.61684279582741, -122.5953845, -122.60763610980057, -122.61214077489262, -122.59004212527509, -122.5808378888889, -122.601412259283, -122.5848864, -122.6182387, -122.6070979, -122.6037523, None, -122.61165331691853, None, None, -122.60439486130116, -122.60880434983125, -122.60136263246731, -122.5966691970219, -122.6074359252777, -122.60016000019252, -122.61977502519305, -122.60427352516001, -122.58726813790464, None, -122.61006907489627, -122.61415222752342, -122.59195962490762, -122.5831588448915, -122.6151033, -122.60351549864018, -122.61040320000001, -122.60279388921647, -122.60587574982843, -122.59055464136588, -122.60677862484097, -122.5820515979918, -122.60206365023404, -122.58454307493258, -122.61576625968634, -122.59002369982616, -122.61351952490728, -122.57973679864298, -122.61344837373737, -122.59702374983979, -122.6037643, -122.59160101367115, -122.58267964361701, -122.58736278132062, -122.5850574, -122.60357418120806, -122.5934874047752, -122.59095147484686, -122.61031363401048, -122.58688990165025, -122.61074897016472, -122.5909358, -122.60819190000001]\n"
     ]
    }
   ],
   "source": [
    "print(latitudes)\n",
    "print(longitudes)"
   ]
  },
  {
   "cell_type": "code",
   "execution_count": 90,
   "metadata": {},
   "outputs": [],
   "source": [
    "\n",
    "locdf = ['Latitudes','Longitudes']\n",
    "\n",
    "dict = {'Latitudes':latitudes,'Longitudes':longitudes}\n",
    "\n",
    "with open('./Data/port_houses_compact.csv', 'a') as f_object:\n",
    " \n",
    "    # Pass the file object and a list\n",
    "    # of column names to DictWriter()\n",
    "    # You will get a object of DictWriter\n",
    "    dictwriter_object = DictWriter(f_object, fieldnames=locdf)\n",
    " \n",
    "    # Pass the dictionary as an argument to the Writerow()\n",
    "    dictwriter_object.writerow(dict)\n",
    " \n",
    "    # Close the file object\n",
    "    f_object.close() "
   ]
  }
 ],
 "metadata": {
  "kernelspec": {
   "display_name": "Python 3.10.4 64-bit",
   "language": "python",
   "name": "python3"
  },
  "language_info": {
   "codemirror_mode": {
    "name": "ipython",
    "version": 3
   },
   "file_extension": ".py",
   "mimetype": "text/x-python",
   "name": "python",
   "nbconvert_exporter": "python",
   "pygments_lexer": "ipython3",
   "version": "3.10.4"
  },
  "orig_nbformat": 4,
  "vscode": {
   "interpreter": {
    "hash": "369f2c481f4da34e4445cda3fffd2e751bd1c4d706f27375911949ba6bb62e1c"
   }
  }
 },
 "nbformat": 4,
 "nbformat_minor": 2
}
