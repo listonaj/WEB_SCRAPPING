{
 "cells": [
  {
   "cell_type": "code",
   "execution_count": 6,
   "metadata": {},
   "outputs": [],
   "source": [
    "%matplotlib inline\n",
    "import numpy as np\n",
    "import pandas as pd\n",
    "import matplotlib.pyplot as plt\n",
    "import folium"
   ]
  },
  {
   "cell_type": "code",
   "execution_count": 13,
   "metadata": {},
   "outputs": [
    {
     "data": {
      "text/html": [
       "<div>\n",
       "<style scoped>\n",
       "    .dataframe tbody tr th:only-of-type {\n",
       "        vertical-align: middle;\n",
       "    }\n",
       "\n",
       "    .dataframe tbody tr th {\n",
       "        vertical-align: top;\n",
       "    }\n",
       "\n",
       "    .dataframe thead th {\n",
       "        text-align: right;\n",
       "    }\n",
       "</style>\n",
       "<table border=\"1\" class=\"dataframe\">\n",
       "  <thead>\n",
       "    <tr style=\"text-align: right;\">\n",
       "      <th></th>\n",
       "      <th>index</th>\n",
       "      <th>neighbourhood</th>\n",
       "      <th>type of crime</th>\n",
       "      <th>lat</th>\n",
       "      <th>long</th>\n",
       "      <th>x</th>\n",
       "      <th>y</th>\n",
       "    </tr>\n",
       "  </thead>\n",
       "  <tbody>\n",
       "    <tr>\n",
       "      <th>0</th>\n",
       "      <td>3447</td>\n",
       "      <td>Alameda</td>\n",
       "      <td>False Pretenses/Swindle/Confidence Game</td>\n",
       "      <td>45.551806</td>\n",
       "      <td>-122.643266</td>\n",
       "      <td>7653129.0</td>\n",
       "      <td>694558.0</td>\n",
       "    </tr>\n",
       "    <tr>\n",
       "      <th>1</th>\n",
       "      <td>3450</td>\n",
       "      <td>Alameda</td>\n",
       "      <td>Motor Vehicle Theft</td>\n",
       "      <td>45.546654</td>\n",
       "      <td>-122.643673</td>\n",
       "      <td>7652975.0</td>\n",
       "      <td>692683.0</td>\n",
       "    </tr>\n",
       "    <tr>\n",
       "      <th>2</th>\n",
       "      <td>3451</td>\n",
       "      <td>Alameda</td>\n",
       "      <td>Burglary</td>\n",
       "      <td>45.542105</td>\n",
       "      <td>-122.643704</td>\n",
       "      <td>7652923.0</td>\n",
       "      <td>691025.0</td>\n",
       "    </tr>\n",
       "    <tr>\n",
       "      <th>3</th>\n",
       "      <td>3452</td>\n",
       "      <td>Alameda</td>\n",
       "      <td>Theft of Motor Vehicle Parts or Accessories</td>\n",
       "      <td>45.542105</td>\n",
       "      <td>-122.643704</td>\n",
       "      <td>7652923.0</td>\n",
       "      <td>691025.0</td>\n",
       "    </tr>\n",
       "    <tr>\n",
       "      <th>4</th>\n",
       "      <td>3453</td>\n",
       "      <td>Alameda</td>\n",
       "      <td>All Other Larceny</td>\n",
       "      <td>45.548902</td>\n",
       "      <td>-122.643629</td>\n",
       "      <td>7653008.0</td>\n",
       "      <td>693502.0</td>\n",
       "    </tr>\n",
       "  </tbody>\n",
       "</table>\n",
       "</div>"
      ],
      "text/plain": [
       "   index neighbourhood                                type of crime  \\\n",
       "0   3447       Alameda      False Pretenses/Swindle/Confidence Game   \n",
       "1   3450       Alameda                          Motor Vehicle Theft   \n",
       "2   3451       Alameda                                     Burglary   \n",
       "3   3452       Alameda  Theft of Motor Vehicle Parts or Accessories   \n",
       "4   3453       Alameda                            All Other Larceny   \n",
       "\n",
       "         lat        long          x         y  \n",
       "0  45.551806 -122.643266  7653129.0  694558.0  \n",
       "1  45.546654 -122.643673  7652975.0  692683.0  \n",
       "2  45.542105 -122.643704  7652923.0  691025.0  \n",
       "3  45.542105 -122.643704  7652923.0  691025.0  \n",
       "4  45.548902 -122.643629  7653008.0  693502.0  "
      ]
     },
     "execution_count": 13,
     "metadata": {},
     "output_type": "execute_result"
    }
   ],
   "source": [
    "df = pd.read_csv('./Data/crime_per_location.csv')\n",
    "df.head()\n"
   ]
  },
  {
   "cell_type": "code",
   "execution_count": 14,
   "metadata": {},
   "outputs": [
    {
     "data": {
      "text/html": [
       "<div>\n",
       "<style scoped>\n",
       "    .dataframe tbody tr th:only-of-type {\n",
       "        vertical-align: middle;\n",
       "    }\n",
       "\n",
       "    .dataframe tbody tr th {\n",
       "        vertical-align: top;\n",
       "    }\n",
       "\n",
       "    .dataframe thead th {\n",
       "        text-align: right;\n",
       "    }\n",
       "</style>\n",
       "<table border=\"1\" class=\"dataframe\">\n",
       "  <thead>\n",
       "    <tr style=\"text-align: right;\">\n",
       "      <th></th>\n",
       "      <th>index</th>\n",
       "      <th>neighbourhood</th>\n",
       "      <th>type of crime</th>\n",
       "      <th>lat</th>\n",
       "      <th>long</th>\n",
       "      <th>x</th>\n",
       "      <th>y</th>\n",
       "    </tr>\n",
       "  </thead>\n",
       "  <tbody>\n",
       "    <tr>\n",
       "      <th>43914</th>\n",
       "      <td>47447</td>\n",
       "      <td>NaN</td>\n",
       "      <td>Theft From Motor Vehicle</td>\n",
       "      <td>NaN</td>\n",
       "      <td>NaN</td>\n",
       "      <td>NaN</td>\n",
       "      <td>NaN</td>\n",
       "    </tr>\n",
       "    <tr>\n",
       "      <th>43915</th>\n",
       "      <td>47448</td>\n",
       "      <td>NaN</td>\n",
       "      <td>Simple Assault</td>\n",
       "      <td>45.517524</td>\n",
       "      <td>-122.668608</td>\n",
       "      <td>7646304.0</td>\n",
       "      <td>682236.0</td>\n",
       "    </tr>\n",
       "    <tr>\n",
       "      <th>43916</th>\n",
       "      <td>47449</td>\n",
       "      <td>NaN</td>\n",
       "      <td>Vandalism</td>\n",
       "      <td>45.464324</td>\n",
       "      <td>-122.665556</td>\n",
       "      <td>7646566.0</td>\n",
       "      <td>662825.0</td>\n",
       "    </tr>\n",
       "    <tr>\n",
       "      <th>43917</th>\n",
       "      <td>47450</td>\n",
       "      <td>NaN</td>\n",
       "      <td>Vandalism</td>\n",
       "      <td>45.464324</td>\n",
       "      <td>-122.665556</td>\n",
       "      <td>7646566.0</td>\n",
       "      <td>662825.0</td>\n",
       "    </tr>\n",
       "    <tr>\n",
       "      <th>43918</th>\n",
       "      <td>47451</td>\n",
       "      <td>NaN</td>\n",
       "      <td>Aggravated Assault</td>\n",
       "      <td>45.521360</td>\n",
       "      <td>-122.669297</td>\n",
       "      <td>7646165.0</td>\n",
       "      <td>683639.0</td>\n",
       "    </tr>\n",
       "  </tbody>\n",
       "</table>\n",
       "</div>"
      ],
      "text/plain": [
       "       index neighbourhood             type of crime        lat        long  \\\n",
       "43914  47447           NaN  Theft From Motor Vehicle        NaN         NaN   \n",
       "43915  47448           NaN            Simple Assault  45.517524 -122.668608   \n",
       "43916  47449           NaN                 Vandalism  45.464324 -122.665556   \n",
       "43917  47450           NaN                 Vandalism  45.464324 -122.665556   \n",
       "43918  47451           NaN        Aggravated Assault  45.521360 -122.669297   \n",
       "\n",
       "               x         y  \n",
       "43914        NaN       NaN  \n",
       "43915  7646304.0  682236.0  \n",
       "43916  7646566.0  662825.0  \n",
       "43917  7646566.0  662825.0  \n",
       "43918  7646165.0  683639.0  "
      ]
     },
     "execution_count": 14,
     "metadata": {},
     "output_type": "execute_result"
    }
   ],
   "source": [
    "df.tail()"
   ]
  },
  {
   "cell_type": "markdown",
   "metadata": {},
   "source": [
    "based on the information at our disposal, it looks like there are almost 44.000 crimes committed in Portland during the year 2022"
   ]
  },
  {
   "cell_type": "code",
   "execution_count": 15,
   "metadata": {},
   "outputs": [
    {
     "data": {
      "text/plain": [
       "Index(['index', 'neighbourhood', 'type of crime', 'lat', 'long', 'x', 'y'], dtype='object')"
      ]
     },
     "execution_count": 15,
     "metadata": {},
     "output_type": "execute_result"
    }
   ],
   "source": [
    "df.columns"
   ]
  },
  {
   "cell_type": "code",
   "execution_count": 16,
   "metadata": {},
   "outputs": [
    {
     "data": {
      "text/plain": [
       "43919"
      ]
     },
     "execution_count": 16,
     "metadata": {},
     "output_type": "execute_result"
    }
   ],
   "source": [
    "len(df)"
   ]
  },
  {
   "cell_type": "markdown",
   "metadata": {},
   "source": [
    "By using the len(length)function, we have the confioemation that there are 44000 crimes committed in Portland. "
   ]
  },
  {
   "cell_type": "code",
   "execution_count": 17,
   "metadata": {},
   "outputs": [
    {
     "data": {
      "text/html": [
       "<div>\n",
       "<style scoped>\n",
       "    .dataframe tbody tr th:only-of-type {\n",
       "        vertical-align: middle;\n",
       "    }\n",
       "\n",
       "    .dataframe tbody tr th {\n",
       "        vertical-align: top;\n",
       "    }\n",
       "\n",
       "    .dataframe thead th {\n",
       "        text-align: right;\n",
       "    }\n",
       "</style>\n",
       "<table border=\"1\" class=\"dataframe\">\n",
       "  <thead>\n",
       "    <tr style=\"text-align: right;\">\n",
       "      <th></th>\n",
       "      <th>index</th>\n",
       "      <th>neighbourhood</th>\n",
       "      <th>type of crime</th>\n",
       "      <th>lat</th>\n",
       "      <th>long</th>\n",
       "      <th>x</th>\n",
       "      <th>y</th>\n",
       "    </tr>\n",
       "  </thead>\n",
       "  <tbody>\n",
       "    <tr>\n",
       "      <th>0</th>\n",
       "      <td>False</td>\n",
       "      <td>False</td>\n",
       "      <td>False</td>\n",
       "      <td>False</td>\n",
       "      <td>False</td>\n",
       "      <td>False</td>\n",
       "      <td>False</td>\n",
       "    </tr>\n",
       "    <tr>\n",
       "      <th>1</th>\n",
       "      <td>False</td>\n",
       "      <td>False</td>\n",
       "      <td>False</td>\n",
       "      <td>False</td>\n",
       "      <td>False</td>\n",
       "      <td>False</td>\n",
       "      <td>False</td>\n",
       "    </tr>\n",
       "    <tr>\n",
       "      <th>2</th>\n",
       "      <td>False</td>\n",
       "      <td>False</td>\n",
       "      <td>False</td>\n",
       "      <td>False</td>\n",
       "      <td>False</td>\n",
       "      <td>False</td>\n",
       "      <td>False</td>\n",
       "    </tr>\n",
       "    <tr>\n",
       "      <th>3</th>\n",
       "      <td>False</td>\n",
       "      <td>False</td>\n",
       "      <td>False</td>\n",
       "      <td>False</td>\n",
       "      <td>False</td>\n",
       "      <td>False</td>\n",
       "      <td>False</td>\n",
       "    </tr>\n",
       "    <tr>\n",
       "      <th>4</th>\n",
       "      <td>False</td>\n",
       "      <td>False</td>\n",
       "      <td>False</td>\n",
       "      <td>False</td>\n",
       "      <td>False</td>\n",
       "      <td>False</td>\n",
       "      <td>False</td>\n",
       "    </tr>\n",
       "  </tbody>\n",
       "</table>\n",
       "</div>"
      ],
      "text/plain": [
       "   index  neighbourhood  type of crime    lat   long      x      y\n",
       "0  False          False          False  False  False  False  False\n",
       "1  False          False          False  False  False  False  False\n",
       "2  False          False          False  False  False  False  False\n",
       "3  False          False          False  False  False  False  False\n",
       "4  False          False          False  False  False  False  False"
      ]
     },
     "execution_count": 17,
     "metadata": {},
     "output_type": "execute_result"
    }
   ],
   "source": [
    "Number_of_NaNs = df.isnull()\n",
    "\n",
    "Number_of_NaNs.head()"
   ]
  },
  {
   "cell_type": "code",
   "execution_count": 18,
   "metadata": {},
   "outputs": [
    {
     "data": {
      "text/plain": [
       "index               0\n",
       "neighbourhood    1958\n",
       "type of crime       0\n",
       "lat              1061\n",
       "long             1061\n",
       "x                1061\n",
       "y                1061\n",
       "dtype: int64"
      ]
     },
     "execution_count": 18,
     "metadata": {},
     "output_type": "execute_result"
    }
   ],
   "source": [
    "NaNs_per_column = Number_of_NaNs.sum()\n",
    "NaNs_per_column\n"
   ]
  },
  {
   "cell_type": "code",
   "execution_count": 34,
   "metadata": {},
   "outputs": [
    {
     "data": {
      "text/plain": [
       "6202"
      ]
     },
     "execution_count": 34,
     "metadata": {},
     "output_type": "execute_result"
    }
   ],
   "source": [
    "NaNs_total = NaNs_per_column.sum().sum()\n",
    "NaNs_total"
   ]
  },
  {
   "cell_type": "code",
   "execution_count": 29,
   "metadata": {},
   "outputs": [
    {
     "name": "stdout",
     "output_type": "stream",
     "text": [
      "The Data frame contains : 6202 NaNs, equal to 2.0174 of the measurements\n"
     ]
    }
   ],
   "source": [
    "NaN_pct = np.round(df.isnull().sum().sum()/float(len(df)*len(df.columns))*100, decimals=4)\n",
    "print(\"The Data frame contains : {} NaNs, equal to {} of the measurements\".format(NaNs_total, NaN_pct))"
   ]
  },
  {
   "cell_type": "code",
   "execution_count": 30,
   "metadata": {},
   "outputs": [],
   "source": [
    "df_clean= df.dropna()"
   ]
  },
  {
   "cell_type": "code",
   "execution_count": 33,
   "metadata": {},
   "outputs": [
    {
     "name": "stdout",
     "output_type": "stream",
     "text": [
      "43919\n",
      "41814\n"
     ]
    }
   ],
   "source": [
    "print(len(df))\n",
    "print(len(df_clean))"
   ]
  },
  {
   "cell_type": "markdown",
   "metadata": {},
   "source": [
    "We notice that there are 2105 NaNs that have been removed from the list."
   ]
  },
  {
   "cell_type": "code",
   "execution_count": 35,
   "metadata": {},
   "outputs": [
    {
     "name": "stdout",
     "output_type": "stream",
     "text": [
      "Vandalism                                      7343\n",
      "Motor Vehicle Theft                            7037\n",
      "Theft From Motor Vehicle                       6384\n",
      "Burglary                                       3652\n",
      "All Other Larceny                              3597\n",
      "Theft of Motor Vehicle Parts or Accessories    3132\n",
      "Shoplifting                                    2003\n",
      "Simple Assault                                 1598\n",
      "Aggravated Assault                             1216\n",
      "Theft From Building                            1160\n",
      "Robbery                                         889\n",
      "False Pretenses/Swindle/Confidence Game         705\n",
      "Identity Theft                                  632\n",
      "Credit Card/ATM Fraud                           528\n",
      "Weapons Law Violations                          513\n",
      "Intimidation                                    328\n",
      "Drug/Narcotic Violations                        288\n",
      "Arson                                           225\n",
      "Counterfeiting/Forgery                          224\n",
      "Purse-Snatching                                  68\n",
      "Stolen Property Offenses                         45\n",
      "Purchasing Prostitution                          36\n",
      "Wire Fraud                                       31\n",
      "Theft From Coin-Operated Machine or Device       24\n",
      "Embezzlement                                     23\n",
      "Hacking/Computer Invasion                        21\n",
      "Pocket-Picking                                   21\n",
      "Pornography/Obscene Material                     19\n",
      "Extortion/Blackmail                              16\n",
      "Impersonation                                    15\n",
      "Assisting or Promoting Prostitution              11\n",
      "Animal Cruelty                                   11\n",
      "Prostitution                                     11\n",
      "Drug Equipment Violations                         3\n",
      "Negligent Manslaughter with a Vehicle             2\n",
      "Welfare Fraud                                     2\n",
      "Murder and Non-negligent Manslaughter             1\n",
      "Name: type of crime, dtype: int64\n"
     ]
    }
   ],
   "source": [
    "CountCategory = df_clean['type of crime'].value_counts()\n",
    "print(CountCategory)"
   ]
  },
  {
   "cell_type": "code",
   "execution_count": 36,
   "metadata": {},
   "outputs": [
    {
     "name": "stdout",
     "output_type": "stream",
     "text": [
      "Downtown         3430\n",
      "Hazelwood        2173\n",
      "Northwest        1850\n",
      "Pearl            1506\n",
      "Lents            1240\n",
      "                 ... \n",
      "Crestwood          17\n",
      "Woodland Park      17\n",
      "Arnold Creek       11\n",
      "Marshall Park      10\n",
      "Healy Heights       1\n",
      "Name: neighbourhood, Length: 96, dtype: int64\n"
     ]
    }
   ],
   "source": [
    "Count_Neighbourhood = df_clean['neighbourhood'].value_counts()\n",
    "print(Count_Neighbourhood)"
   ]
  },
  {
   "cell_type": "markdown",
   "metadata": {},
   "source": [
    "it seems that downtown and Hazelwood are the places where the crime have been committed the most"
   ]
  }
 ],
 "metadata": {
  "kernelspec": {
   "display_name": "Python 3.10.4 64-bit",
   "language": "python",
   "name": "python3"
  },
  "language_info": {
   "codemirror_mode": {
    "name": "ipython",
    "version": 3
   },
   "file_extension": ".py",
   "mimetype": "text/x-python",
   "name": "python",
   "nbconvert_exporter": "python",
   "pygments_lexer": "ipython3",
   "version": "3.10.4"
  },
  "orig_nbformat": 4,
  "vscode": {
   "interpreter": {
    "hash": "369f2c481f4da34e4445cda3fffd2e751bd1c4d706f27375911949ba6bb62e1c"
   }
  }
 },
 "nbformat": 4,
 "nbformat_minor": 2
}
