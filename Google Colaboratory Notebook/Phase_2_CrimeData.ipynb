{
 "cells": [
  {
   "cell_type": "code",
   "execution_count": 14,
   "metadata": {},
   "outputs": [],
   "source": [
    "%matplotlib inline\n",
    "import numpy as np\n",
    "import pandas as pd\n",
    "import matplotlib.pyplot as plt\n",
    "import folium\n"
   ]
  },
  {
   "cell_type": "code",
   "execution_count": 15,
   "metadata": {},
   "outputs": [
    {
     "data": {
      "text/html": [
       "<div>\n",
       "<style scoped>\n",
       "    .dataframe tbody tr th:only-of-type {\n",
       "        vertical-align: middle;\n",
       "    }\n",
       "\n",
       "    .dataframe tbody tr th {\n",
       "        vertical-align: top;\n",
       "    }\n",
       "\n",
       "    .dataframe thead th {\n",
       "        text-align: right;\n",
       "    }\n",
       "</style>\n",
       "<table border=\"1\" class=\"dataframe\">\n",
       "  <thead>\n",
       "    <tr style=\"text-align: right;\">\n",
       "      <th></th>\n",
       "      <th>Address</th>\n",
       "      <th>CrimeAgainst</th>\n",
       "      <th>Neighborhood</th>\n",
       "      <th>OccurDate</th>\n",
       "      <th>OffenseType</th>\n",
       "      <th>OpenDataLat</th>\n",
       "      <th>OpenDataLon</th>\n",
       "      <th>OpenDataX</th>\n",
       "      <th>OpenDataY</th>\n",
       "    </tr>\n",
       "  </thead>\n",
       "  <tbody>\n",
       "    <tr>\n",
       "      <th>0</th>\n",
       "      <td>NaN</td>\n",
       "      <td>Person</td>\n",
       "      <td>Centennial</td>\n",
       "      <td>1/1/2022</td>\n",
       "      <td>Simple Assault</td>\n",
       "      <td>NaN</td>\n",
       "      <td>NaN</td>\n",
       "      <td>NaN</td>\n",
       "      <td>NaN</td>\n",
       "    </tr>\n",
       "    <tr>\n",
       "      <th>1</th>\n",
       "      <td>NaN</td>\n",
       "      <td>Person</td>\n",
       "      <td>Parkrose</td>\n",
       "      <td>1/1/2022</td>\n",
       "      <td>Aggravated Assault</td>\n",
       "      <td>NaN</td>\n",
       "      <td>NaN</td>\n",
       "      <td>NaN</td>\n",
       "      <td>NaN</td>\n",
       "    </tr>\n",
       "    <tr>\n",
       "      <th>2</th>\n",
       "      <td>NaN</td>\n",
       "      <td>Society</td>\n",
       "      <td>Parkrose</td>\n",
       "      <td>1/1/2022</td>\n",
       "      <td>Weapons Law Violations</td>\n",
       "      <td>NaN</td>\n",
       "      <td>NaN</td>\n",
       "      <td>NaN</td>\n",
       "      <td>NaN</td>\n",
       "    </tr>\n",
       "    <tr>\n",
       "      <th>3</th>\n",
       "      <td>NaN</td>\n",
       "      <td>Person</td>\n",
       "      <td>Woodstock</td>\n",
       "      <td>1/1/2022</td>\n",
       "      <td>Simple Assault</td>\n",
       "      <td>NaN</td>\n",
       "      <td>NaN</td>\n",
       "      <td>NaN</td>\n",
       "      <td>NaN</td>\n",
       "    </tr>\n",
       "    <tr>\n",
       "      <th>4</th>\n",
       "      <td>NaN</td>\n",
       "      <td>Person</td>\n",
       "      <td>Woodstock</td>\n",
       "      <td>1/1/2022</td>\n",
       "      <td>Kidnapping/Abduction</td>\n",
       "      <td>NaN</td>\n",
       "      <td>NaN</td>\n",
       "      <td>NaN</td>\n",
       "      <td>NaN</td>\n",
       "    </tr>\n",
       "  </tbody>\n",
       "</table>\n",
       "</div>"
      ],
      "text/plain": [
       "  Address CrimeAgainst Neighborhood OccurDate             OffenseType  \\\n",
       "0     NaN       Person   Centennial  1/1/2022          Simple Assault   \n",
       "1     NaN       Person     Parkrose  1/1/2022      Aggravated Assault   \n",
       "2     NaN      Society     Parkrose  1/1/2022  Weapons Law Violations   \n",
       "3     NaN       Person    Woodstock  1/1/2022          Simple Assault   \n",
       "4     NaN       Person    Woodstock  1/1/2022    Kidnapping/Abduction   \n",
       "\n",
       "   OpenDataLat  OpenDataLon  OpenDataX  OpenDataY  \n",
       "0          NaN          NaN        NaN        NaN  \n",
       "1          NaN          NaN        NaN        NaN  \n",
       "2          NaN          NaN        NaN        NaN  \n",
       "3          NaN          NaN        NaN        NaN  \n",
       "4          NaN          NaN        NaN        NaN  "
      ]
     },
     "execution_count": 15,
     "metadata": {},
     "output_type": "execute_result"
    }
   ],
   "source": [
    "port_crime = pd.read_csv('CrimeData-2022.csv')\n",
    "\n",
    "port_crime.head()"
   ]
  },
  {
   "cell_type": "code",
   "execution_count": 16,
   "metadata": {},
   "outputs": [
    {
     "data": {
      "text/html": [
       "<div>\n",
       "<style scoped>\n",
       "    .dataframe tbody tr th:only-of-type {\n",
       "        vertical-align: middle;\n",
       "    }\n",
       "\n",
       "    .dataframe tbody tr th {\n",
       "        vertical-align: top;\n",
       "    }\n",
       "\n",
       "    .dataframe thead th {\n",
       "        text-align: right;\n",
       "    }\n",
       "</style>\n",
       "<table border=\"1\" class=\"dataframe\">\n",
       "  <thead>\n",
       "    <tr style=\"text-align: right;\">\n",
       "      <th></th>\n",
       "      <th>Address</th>\n",
       "      <th>CrimeAgainst</th>\n",
       "      <th>Neighborhood</th>\n",
       "      <th>OccurDate</th>\n",
       "      <th>OffenseType</th>\n",
       "      <th>OpenDataLat</th>\n",
       "      <th>OpenDataLon</th>\n",
       "      <th>OpenDataX</th>\n",
       "      <th>OpenDataY</th>\n",
       "    </tr>\n",
       "  </thead>\n",
       "  <tbody>\n",
       "    <tr>\n",
       "      <th>47447</th>\n",
       "      <td>WILDWOOD TRAIL AT / KEIL TRAIL</td>\n",
       "      <td>Property</td>\n",
       "      <td>Forest Park</td>\n",
       "      <td>6/4/2022</td>\n",
       "      <td>Credit Card/ATM Fraud</td>\n",
       "      <td>45.540437</td>\n",
       "      <td>-122.736728</td>\n",
       "      <td>7629081.0</td>\n",
       "      <td>691063.0</td>\n",
       "    </tr>\n",
       "    <tr>\n",
       "      <th>47448</th>\n",
       "      <td>WILDWOOD TRAIL AT / KEIL TRAIL</td>\n",
       "      <td>Property</td>\n",
       "      <td>Forest Park</td>\n",
       "      <td>6/4/2022</td>\n",
       "      <td>Theft From Motor Vehicle</td>\n",
       "      <td>45.540437</td>\n",
       "      <td>-122.736728</td>\n",
       "      <td>7629081.0</td>\n",
       "      <td>691063.0</td>\n",
       "    </tr>\n",
       "    <tr>\n",
       "      <th>47449</th>\n",
       "      <td>WILDWOOD TRAIL AT / KEIL TRAIL</td>\n",
       "      <td>Property</td>\n",
       "      <td>Forest Park</td>\n",
       "      <td>6/4/2022</td>\n",
       "      <td>Vandalism</td>\n",
       "      <td>45.540437</td>\n",
       "      <td>-122.736728</td>\n",
       "      <td>7629081.0</td>\n",
       "      <td>691063.0</td>\n",
       "    </tr>\n",
       "    <tr>\n",
       "      <th>47450</th>\n",
       "      <td>WILDWOOD TRAIL AT / MAPLE TRAIL</td>\n",
       "      <td>Property</td>\n",
       "      <td>Forest Park</td>\n",
       "      <td>2/26/2022</td>\n",
       "      <td>Theft From Motor Vehicle</td>\n",
       "      <td>45.552453</td>\n",
       "      <td>-122.758415</td>\n",
       "      <td>7623649.0</td>\n",
       "      <td>695597.0</td>\n",
       "    </tr>\n",
       "    <tr>\n",
       "      <th>47451</th>\n",
       "      <td>WILLAMETTE RIVER WB SO / BURNSIDE BRG</td>\n",
       "      <td>Person</td>\n",
       "      <td>NaN</td>\n",
       "      <td>6/20/2022</td>\n",
       "      <td>Aggravated Assault</td>\n",
       "      <td>45.521360</td>\n",
       "      <td>-122.669297</td>\n",
       "      <td>7646165.0</td>\n",
       "      <td>683639.0</td>\n",
       "    </tr>\n",
       "  </tbody>\n",
       "</table>\n",
       "</div>"
      ],
      "text/plain": [
       "                                     Address CrimeAgainst Neighborhood  \\\n",
       "47447         WILDWOOD TRAIL AT / KEIL TRAIL     Property  Forest Park   \n",
       "47448         WILDWOOD TRAIL AT / KEIL TRAIL     Property  Forest Park   \n",
       "47449         WILDWOOD TRAIL AT / KEIL TRAIL     Property  Forest Park   \n",
       "47450        WILDWOOD TRAIL AT / MAPLE TRAIL     Property  Forest Park   \n",
       "47451  WILLAMETTE RIVER WB SO / BURNSIDE BRG       Person          NaN   \n",
       "\n",
       "       OccurDate               OffenseType  OpenDataLat  OpenDataLon  \\\n",
       "47447   6/4/2022     Credit Card/ATM Fraud    45.540437  -122.736728   \n",
       "47448   6/4/2022  Theft From Motor Vehicle    45.540437  -122.736728   \n",
       "47449   6/4/2022                 Vandalism    45.540437  -122.736728   \n",
       "47450  2/26/2022  Theft From Motor Vehicle    45.552453  -122.758415   \n",
       "47451  6/20/2022        Aggravated Assault    45.521360  -122.669297   \n",
       "\n",
       "       OpenDataX  OpenDataY  \n",
       "47447  7629081.0   691063.0  \n",
       "47448  7629081.0   691063.0  \n",
       "47449  7629081.0   691063.0  \n",
       "47450  7623649.0   695597.0  \n",
       "47451  7646165.0   683639.0  "
      ]
     },
     "execution_count": 16,
     "metadata": {},
     "output_type": "execute_result"
    }
   ],
   "source": [
    "port_crime.tail()"
   ]
  },
  {
   "cell_type": "markdown",
   "metadata": {},
   "source": [
    "displaying columns name"
   ]
  },
  {
   "cell_type": "code",
   "execution_count": 18,
   "metadata": {},
   "outputs": [
    {
     "data": {
      "text/plain": [
       "Index(['Address', 'CrimeAgainst', 'Neighborhood', 'OccurDate', 'OffenseType',\n",
       "       'OpenDataLat', 'OpenDataLon', 'OpenDataX', 'OpenDataY'],\n",
       "      dtype='object')"
      ]
     },
     "execution_count": 18,
     "metadata": {},
     "output_type": "execute_result"
    }
   ],
   "source": [
    "port_crime.columns"
   ]
  },
  {
   "cell_type": "markdown",
   "metadata": {},
   "source": [
    "dropping some columns to keep only columns that are regarding location where crime have been committed "
   ]
  },
  {
   "cell_type": "code",
   "execution_count": 37,
   "metadata": {},
   "outputs": [],
   "source": [
    "crime_location = port_crime.drop(['CrimeAgainst','OccurDate','OpenDataLat','OpenDataLon','OpenDataX','OpenDataY','Address'], axis=1)"
   ]
  },
  {
   "cell_type": "code",
   "execution_count": 38,
   "metadata": {},
   "outputs": [
    {
     "data": {
      "text/html": [
       "<div>\n",
       "<style scoped>\n",
       "    .dataframe tbody tr th:only-of-type {\n",
       "        vertical-align: middle;\n",
       "    }\n",
       "\n",
       "    .dataframe tbody tr th {\n",
       "        vertical-align: top;\n",
       "    }\n",
       "\n",
       "    .dataframe thead th {\n",
       "        text-align: right;\n",
       "    }\n",
       "</style>\n",
       "<table border=\"1\" class=\"dataframe\">\n",
       "  <thead>\n",
       "    <tr style=\"text-align: right;\">\n",
       "      <th></th>\n",
       "      <th>Neighborhood</th>\n",
       "      <th>OffenseType</th>\n",
       "    </tr>\n",
       "  </thead>\n",
       "  <tbody>\n",
       "    <tr>\n",
       "      <th>0</th>\n",
       "      <td>Centennial</td>\n",
       "      <td>Simple Assault</td>\n",
       "    </tr>\n",
       "    <tr>\n",
       "      <th>1</th>\n",
       "      <td>Parkrose</td>\n",
       "      <td>Aggravated Assault</td>\n",
       "    </tr>\n",
       "    <tr>\n",
       "      <th>2</th>\n",
       "      <td>Parkrose</td>\n",
       "      <td>Weapons Law Violations</td>\n",
       "    </tr>\n",
       "    <tr>\n",
       "      <th>3</th>\n",
       "      <td>Woodstock</td>\n",
       "      <td>Simple Assault</td>\n",
       "    </tr>\n",
       "    <tr>\n",
       "      <th>4</th>\n",
       "      <td>Woodstock</td>\n",
       "      <td>Kidnapping/Abduction</td>\n",
       "    </tr>\n",
       "  </tbody>\n",
       "</table>\n",
       "</div>"
      ],
      "text/plain": [
       "  Neighborhood             OffenseType\n",
       "0   Centennial          Simple Assault\n",
       "1     Parkrose      Aggravated Assault\n",
       "2     Parkrose  Weapons Law Violations\n",
       "3    Woodstock          Simple Assault\n",
       "4    Woodstock    Kidnapping/Abduction"
      ]
     },
     "execution_count": 38,
     "metadata": {},
     "output_type": "execute_result"
    }
   ],
   "source": [
    "crime_location.head()"
   ]
  },
  {
   "cell_type": "markdown",
   "metadata": {},
   "source": [
    "removing NaNs"
   ]
  },
  {
   "cell_type": "code",
   "execution_count": 39,
   "metadata": {},
   "outputs": [
    {
     "name": "stdout",
     "output_type": "stream",
     "text": [
      "<class 'pandas.core.frame.DataFrame'>\n"
     ]
    },
    {
     "data": {
      "text/html": [
       "<div>\n",
       "<style scoped>\n",
       "    .dataframe tbody tr th:only-of-type {\n",
       "        vertical-align: middle;\n",
       "    }\n",
       "\n",
       "    .dataframe tbody tr th {\n",
       "        vertical-align: top;\n",
       "    }\n",
       "\n",
       "    .dataframe thead th {\n",
       "        text-align: right;\n",
       "    }\n",
       "</style>\n",
       "<table border=\"1\" class=\"dataframe\">\n",
       "  <thead>\n",
       "    <tr style=\"text-align: right;\">\n",
       "      <th></th>\n",
       "      <th>Neighborhood</th>\n",
       "      <th>OffenseType</th>\n",
       "    </tr>\n",
       "  </thead>\n",
       "  <tbody>\n",
       "    <tr>\n",
       "      <th>0</th>\n",
       "      <td>False</td>\n",
       "      <td>False</td>\n",
       "    </tr>\n",
       "    <tr>\n",
       "      <th>1</th>\n",
       "      <td>False</td>\n",
       "      <td>False</td>\n",
       "    </tr>\n",
       "    <tr>\n",
       "      <th>2</th>\n",
       "      <td>False</td>\n",
       "      <td>False</td>\n",
       "    </tr>\n",
       "    <tr>\n",
       "      <th>3</th>\n",
       "      <td>False</td>\n",
       "      <td>False</td>\n",
       "    </tr>\n",
       "    <tr>\n",
       "      <th>4</th>\n",
       "      <td>False</td>\n",
       "      <td>False</td>\n",
       "    </tr>\n",
       "  </tbody>\n",
       "</table>\n",
       "</div>"
      ],
      "text/plain": [
       "   Neighborhood  OffenseType\n",
       "0         False        False\n",
       "1         False        False\n",
       "2         False        False\n",
       "3         False        False\n",
       "4         False        False"
      ]
     },
     "execution_count": 39,
     "metadata": {},
     "output_type": "execute_result"
    }
   ],
   "source": [
    "NaNs_i_location = crime_location.isnull()\n",
    "print(type(NaNs_i_location))\n",
    "NaNs_i_location.head()"
   ]
  },
  {
   "cell_type": "code",
   "execution_count": 40,
   "metadata": {},
   "outputs": [
    {
     "data": {
      "text/plain": [
       "Neighborhood    2125\n",
       "OffenseType        0\n",
       "dtype: int64"
      ]
     },
     "execution_count": 40,
     "metadata": {},
     "output_type": "execute_result"
    }
   ],
   "source": [
    "NaNs_total = NaNs_i_location.sum()\n",
    "NaNs_total "
   ]
  },
  {
   "cell_type": "code",
   "execution_count": 41,
   "metadata": {},
   "outputs": [
    {
     "data": {
      "text/html": [
       "<div>\n",
       "<style scoped>\n",
       "    .dataframe tbody tr th:only-of-type {\n",
       "        vertical-align: middle;\n",
       "    }\n",
       "\n",
       "    .dataframe tbody tr th {\n",
       "        vertical-align: top;\n",
       "    }\n",
       "\n",
       "    .dataframe thead th {\n",
       "        text-align: right;\n",
       "    }\n",
       "</style>\n",
       "<table border=\"1\" class=\"dataframe\">\n",
       "  <thead>\n",
       "    <tr style=\"text-align: right;\">\n",
       "      <th></th>\n",
       "      <th>Neighborhood</th>\n",
       "      <th>OffenseType</th>\n",
       "    </tr>\n",
       "  </thead>\n",
       "  <tbody>\n",
       "    <tr>\n",
       "      <th>0</th>\n",
       "      <td>Centennial</td>\n",
       "      <td>Simple Assault</td>\n",
       "    </tr>\n",
       "    <tr>\n",
       "      <th>1</th>\n",
       "      <td>Parkrose</td>\n",
       "      <td>Aggravated Assault</td>\n",
       "    </tr>\n",
       "    <tr>\n",
       "      <th>2</th>\n",
       "      <td>Parkrose</td>\n",
       "      <td>Weapons Law Violations</td>\n",
       "    </tr>\n",
       "    <tr>\n",
       "      <th>3</th>\n",
       "      <td>Woodstock</td>\n",
       "      <td>Simple Assault</td>\n",
       "    </tr>\n",
       "    <tr>\n",
       "      <th>4</th>\n",
       "      <td>Woodstock</td>\n",
       "      <td>Kidnapping/Abduction</td>\n",
       "    </tr>\n",
       "  </tbody>\n",
       "</table>\n",
       "</div>"
      ],
      "text/plain": [
       "  Neighborhood             OffenseType\n",
       "0   Centennial          Simple Assault\n",
       "1     Parkrose      Aggravated Assault\n",
       "2     Parkrose  Weapons Law Violations\n",
       "3    Woodstock          Simple Assault\n",
       "4    Woodstock    Kidnapping/Abduction"
      ]
     },
     "execution_count": 41,
     "metadata": {},
     "output_type": "execute_result"
    }
   ],
   "source": [
    "crime_location_compact = crime_location.dropna()\n",
    "crime_location_compact.head()"
   ]
  },
  {
   "cell_type": "code",
   "execution_count": 42,
   "metadata": {},
   "outputs": [
    {
     "data": {
      "text/html": [
       "<div>\n",
       "<style scoped>\n",
       "    .dataframe tbody tr th:only-of-type {\n",
       "        vertical-align: middle;\n",
       "    }\n",
       "\n",
       "    .dataframe tbody tr th {\n",
       "        vertical-align: top;\n",
       "    }\n",
       "\n",
       "    .dataframe thead th {\n",
       "        text-align: right;\n",
       "    }\n",
       "</style>\n",
       "<table border=\"1\" class=\"dataframe\">\n",
       "  <thead>\n",
       "    <tr style=\"text-align: right;\">\n",
       "      <th></th>\n",
       "      <th>Neighborhood</th>\n",
       "      <th>OffenseType</th>\n",
       "    </tr>\n",
       "  </thead>\n",
       "  <tbody>\n",
       "    <tr>\n",
       "      <th>count</th>\n",
       "      <td>45327</td>\n",
       "      <td>45327</td>\n",
       "    </tr>\n",
       "    <tr>\n",
       "      <th>unique</th>\n",
       "      <td>96</td>\n",
       "      <td>46</td>\n",
       "    </tr>\n",
       "    <tr>\n",
       "      <th>top</th>\n",
       "      <td>Downtown</td>\n",
       "      <td>Vandalism</td>\n",
       "    </tr>\n",
       "    <tr>\n",
       "      <th>freq</th>\n",
       "      <td>3594</td>\n",
       "      <td>7569</td>\n",
       "    </tr>\n",
       "  </tbody>\n",
       "</table>\n",
       "</div>"
      ],
      "text/plain": [
       "       Neighborhood OffenseType\n",
       "count         45327       45327\n",
       "unique           96          46\n",
       "top        Downtown   Vandalism\n",
       "freq           3594        7569"
      ]
     },
     "execution_count": 42,
     "metadata": {},
     "output_type": "execute_result"
    }
   ],
   "source": [
    "crime_location_compact.describe()"
   ]
  },
  {
   "cell_type": "markdown",
   "metadata": {},
   "source": [
    "I note that there are 96 different type of neighborhood, which means we are going to have a post code for all pof them. Better to save those two columns in its own csv file. "
   ]
  },
  {
   "cell_type": "code",
   "execution_count": null,
   "metadata": {},
   "outputs": [],
   "source": [
    "crime_location.to_csv('crime_per_location.csv')"
   ]
  }
 ],
 "metadata": {
  "kernelspec": {
   "display_name": "Python 3.10.4 64-bit",
   "language": "python",
   "name": "python3"
  },
  "language_info": {
   "codemirror_mode": {
    "name": "ipython",
    "version": 3
   },
   "file_extension": ".py",
   "mimetype": "text/x-python",
   "name": "python",
   "nbconvert_exporter": "python",
   "pygments_lexer": "ipython3",
   "version": "3.10.4"
  },
  "orig_nbformat": 4,
  "vscode": {
   "interpreter": {
    "hash": "369f2c481f4da34e4445cda3fffd2e751bd1c4d706f27375911949ba6bb62e1c"
   }
  }
 },
 "nbformat": 4,
 "nbformat_minor": 2
}
