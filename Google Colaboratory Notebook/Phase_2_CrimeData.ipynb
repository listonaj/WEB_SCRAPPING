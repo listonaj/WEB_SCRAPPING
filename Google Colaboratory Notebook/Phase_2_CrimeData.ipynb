{
 "cells": [
  {
   "cell_type": "code",
   "execution_count": 5,
   "metadata": {},
   "outputs": [],
   "source": [
    "%matplotlib inline\n",
    "import numpy as np\n",
    "import pandas as pd\n",
    "import matplotlib.pyplot as plt\n",
    "import folium\n"
   ]
  },
  {
   "cell_type": "code",
   "execution_count": 7,
   "metadata": {},
   "outputs": [
    {
     "data": {
      "text/html": [
       "<div>\n",
       "<style scoped>\n",
       "    .dataframe tbody tr th:only-of-type {\n",
       "        vertical-align: middle;\n",
       "    }\n",
       "\n",
       "    .dataframe tbody tr th {\n",
       "        vertical-align: top;\n",
       "    }\n",
       "\n",
       "    .dataframe thead th {\n",
       "        text-align: right;\n",
       "    }\n",
       "</style>\n",
       "<table border=\"1\" class=\"dataframe\">\n",
       "  <thead>\n",
       "    <tr style=\"text-align: right;\">\n",
       "      <th></th>\n",
       "      <th>Address</th>\n",
       "      <th>CrimeAgainst</th>\n",
       "      <th>Neighborhood</th>\n",
       "      <th>OccurDate</th>\n",
       "      <th>OffenseType</th>\n",
       "      <th>OpenDataLat</th>\n",
       "      <th>OpenDataLon</th>\n",
       "      <th>OpenDataX</th>\n",
       "      <th>OpenDataY</th>\n",
       "    </tr>\n",
       "  </thead>\n",
       "  <tbody>\n",
       "    <tr>\n",
       "      <th>0</th>\n",
       "      <td>NaN</td>\n",
       "      <td>Person</td>\n",
       "      <td>Centennial</td>\n",
       "      <td>1/1/2022</td>\n",
       "      <td>Simple Assault</td>\n",
       "      <td>NaN</td>\n",
       "      <td>NaN</td>\n",
       "      <td>NaN</td>\n",
       "      <td>NaN</td>\n",
       "    </tr>\n",
       "    <tr>\n",
       "      <th>1</th>\n",
       "      <td>NaN</td>\n",
       "      <td>Person</td>\n",
       "      <td>Parkrose</td>\n",
       "      <td>1/1/2022</td>\n",
       "      <td>Aggravated Assault</td>\n",
       "      <td>NaN</td>\n",
       "      <td>NaN</td>\n",
       "      <td>NaN</td>\n",
       "      <td>NaN</td>\n",
       "    </tr>\n",
       "    <tr>\n",
       "      <th>2</th>\n",
       "      <td>NaN</td>\n",
       "      <td>Society</td>\n",
       "      <td>Parkrose</td>\n",
       "      <td>1/1/2022</td>\n",
       "      <td>Weapons Law Violations</td>\n",
       "      <td>NaN</td>\n",
       "      <td>NaN</td>\n",
       "      <td>NaN</td>\n",
       "      <td>NaN</td>\n",
       "    </tr>\n",
       "    <tr>\n",
       "      <th>3</th>\n",
       "      <td>NaN</td>\n",
       "      <td>Person</td>\n",
       "      <td>Woodstock</td>\n",
       "      <td>1/1/2022</td>\n",
       "      <td>Simple Assault</td>\n",
       "      <td>NaN</td>\n",
       "      <td>NaN</td>\n",
       "      <td>NaN</td>\n",
       "      <td>NaN</td>\n",
       "    </tr>\n",
       "    <tr>\n",
       "      <th>4</th>\n",
       "      <td>NaN</td>\n",
       "      <td>Person</td>\n",
       "      <td>Woodstock</td>\n",
       "      <td>1/1/2022</td>\n",
       "      <td>Kidnapping/Abduction</td>\n",
       "      <td>NaN</td>\n",
       "      <td>NaN</td>\n",
       "      <td>NaN</td>\n",
       "      <td>NaN</td>\n",
       "    </tr>\n",
       "  </tbody>\n",
       "</table>\n",
       "</div>"
      ],
      "text/plain": [
       "  Address CrimeAgainst Neighborhood OccurDate             OffenseType  \\\n",
       "0     NaN       Person   Centennial  1/1/2022          Simple Assault   \n",
       "1     NaN       Person     Parkrose  1/1/2022      Aggravated Assault   \n",
       "2     NaN      Society     Parkrose  1/1/2022  Weapons Law Violations   \n",
       "3     NaN       Person    Woodstock  1/1/2022          Simple Assault   \n",
       "4     NaN       Person    Woodstock  1/1/2022    Kidnapping/Abduction   \n",
       "\n",
       "   OpenDataLat  OpenDataLon  OpenDataX  OpenDataY  \n",
       "0          NaN          NaN        NaN        NaN  \n",
       "1          NaN          NaN        NaN        NaN  \n",
       "2          NaN          NaN        NaN        NaN  \n",
       "3          NaN          NaN        NaN        NaN  \n",
       "4          NaN          NaN        NaN        NaN  "
      ]
     },
     "execution_count": 7,
     "metadata": {},
     "output_type": "execute_result"
    }
   ],
   "source": [
    "port_crime = pd.read_csv('CrimeData-2022.csv')\n",
    "\n",
    "port_crime.head()"
   ]
  }
 ],
 "metadata": {
  "kernelspec": {
   "display_name": "Python 3.10.4 64-bit",
   "language": "python",
   "name": "python3"
  },
  "language_info": {
   "codemirror_mode": {
    "name": "ipython",
    "version": 3
   },
   "file_extension": ".py",
   "mimetype": "text/x-python",
   "name": "python",
   "nbconvert_exporter": "python",
   "pygments_lexer": "ipython3",
   "version": "3.10.4"
  },
  "orig_nbformat": 4,
  "vscode": {
   "interpreter": {
    "hash": "369f2c481f4da34e4445cda3fffd2e751bd1c4d706f27375911949ba6bb62e1c"
   }
  }
 },
 "nbformat": 4,
 "nbformat_minor": 2
}
